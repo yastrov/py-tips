{
 "metadata": {
  "name": ""
 },
 "nbformat": 3,
 "nbformat_minor": 0,
 "worksheets": [
  {
   "cells": [
    {
     "cell_type": "markdown",
     "metadata": {},
     "source": [
      "#Intro\n",
      "\n",
      "This is Speed Test for Python 3.4.\n",
      "\n",
      "Some values and examples I took from speed test for Python 2.7. Some values and tests have written by me."
     ]
    },
    {
     "cell_type": "code",
     "collapsed": false,
     "input": [
      "import sys\n",
      "import platform\n",
      "platform.system()"
     ],
     "language": "python",
     "metadata": {},
     "outputs": [
      {
       "metadata": {},
       "output_type": "pyout",
       "prompt_number": 68,
       "text": [
        "'Linux'"
       ]
      }
     ],
     "prompt_number": 68
    },
    {
     "cell_type": "code",
     "collapsed": false,
     "input": [
      "platform.release()"
     ],
     "language": "python",
     "metadata": {},
     "outputs": [
      {
       "metadata": {},
       "output_type": "pyout",
       "prompt_number": 69,
       "text": [
        "'3.13.0-36-generic'"
       ]
      }
     ],
     "prompt_number": 69
    },
    {
     "cell_type": "code",
     "collapsed": false,
     "input": [
      "sys.version"
     ],
     "language": "python",
     "metadata": {},
     "outputs": [
      {
       "metadata": {},
       "output_type": "pyout",
       "prompt_number": 70,
       "text": [
        "'3.4.0 (default, Apr 11 2014, 13:05:18) \\n[GCC 4.8.2]'"
       ]
      }
     ],
     "prompt_number": 70
    },
    {
     "cell_type": "code",
     "collapsed": false,
     "input": [
      "from timeit import timeit\n",
      "from dis import dis"
     ],
     "language": "python",
     "metadata": {},
     "outputs": [],
     "prompt_number": 71
    },
    {
     "cell_type": "markdown",
     "metadata": {},
     "source": [
      "Where is my notebook? (If you want to import ipnb, you must copy it to this folder.)"
     ]
    },
    {
     "cell_type": "code",
     "collapsed": false,
     "input": [
      "pwd"
     ],
     "language": "python",
     "metadata": {},
     "outputs": [
      {
       "metadata": {},
       "output_type": "pyout",
       "prompt_number": 72,
       "text": [
        "'/home/yrain'"
       ]
      }
     ],
     "prompt_number": 72
    },
    {
     "cell_type": "markdown",
     "metadata": {},
     "source": [
      "#Test 1 Short vs full-name constructor for basic classes."
     ]
    },
    {
     "cell_type": "code",
     "collapsed": false,
     "input": [
      "def a():\n",
      "    d = {}\n",
      "    return d\n",
      "\n",
      "print(timeit(a, number=1000000))\n",
      "dis(a)"
     ],
     "language": "python",
     "metadata": {},
     "outputs": [
      {
       "output_type": "stream",
       "stream": "stdout",
       "text": [
        "0.28891921300009926\n",
        "  2           0 BUILD_MAP                0\n",
        "              3 STORE_FAST               0 (d)\n",
        "\n",
        "  3           6 LOAD_FAST                0 (d)\n",
        "              9 RETURN_VALUE\n"
       ]
      }
     ],
     "prompt_number": 73
    },
    {
     "cell_type": "code",
     "collapsed": false,
     "input": [
      "def a():\n",
      "    d = dict()\n",
      "    return d\n",
      "\n",
      "print(timeit(a, number=1000000))\n",
      "dis(a)"
     ],
     "language": "python",
     "metadata": {},
     "outputs": [
      {
       "output_type": "stream",
       "stream": "stdout",
       "text": [
        "0.3868153209996308\n",
        "  2           0 LOAD_GLOBAL              0 (dict)\n",
        "              3 CALL_FUNCTION            0 (0 positional, 0 keyword pair)\n",
        "              6 STORE_FAST               0 (d)\n",
        "\n",
        "  3           9 LOAD_FAST                0 (d)\n",
        "             12 RETURN_VALUE\n"
       ]
      }
     ],
     "prompt_number": 74
    },
    {
     "cell_type": "markdown",
     "metadata": {},
     "source": [
      "#Test 2 list.sort vs sorted for list"
     ]
    },
    {
     "cell_type": "code",
     "collapsed": false,
     "input": [
      "def a():\n",
      "    values = [0, 8, 6, 4, 2, 1, 3, 5, 7, 9]\n",
      "    return values.sort()\n",
      "\n",
      "print(timeit(a, number=1000000))\n",
      "dis(a)"
     ],
     "language": "python",
     "metadata": {},
     "outputs": [
      {
       "output_type": "stream",
       "stream": "stdout",
       "text": [
        "1.2145804299998417\n",
        "  2           0 LOAD_CONST               1 (0)\n",
        "              3 LOAD_CONST               2 (8)\n",
        "              6 LOAD_CONST               3 (6)\n",
        "              9 LOAD_CONST               4 (4)\n",
        "             12 LOAD_CONST               5 (2)\n",
        "             15 LOAD_CONST               6 (1)\n",
        "             18 LOAD_CONST               7 (3)\n",
        "             21 LOAD_CONST               8 (5)\n",
        "             24 LOAD_CONST               9 (7)\n",
        "             27 LOAD_CONST              10 (9)\n",
        "             30 BUILD_LIST              10\n",
        "             33 STORE_FAST               0 (values)\n",
        "\n",
        "  3          36 LOAD_FAST                0 (values)\n",
        "             39 LOAD_ATTR                0 (sort)\n",
        "             42 CALL_FUNCTION            0 (0 positional, 0 keyword pair)\n",
        "             45 RETURN_VALUE\n"
       ]
      }
     ],
     "prompt_number": 157
    },
    {
     "cell_type": "code",
     "collapsed": false,
     "input": [
      "def a():\n",
      "    values = [0, 8, 6, 4, 2, 1, 3, 5, 7, 9]\n",
      "    return sorted(values)\n",
      "\n",
      "print(timeit(a, number=1000000))\n",
      "dis(a)"
     ],
     "language": "python",
     "metadata": {},
     "outputs": [
      {
       "output_type": "stream",
       "stream": "stdout",
       "text": [
        "1.563018173999808\n",
        "  2           0 LOAD_CONST               1 (0)\n",
        "              3 LOAD_CONST               2 (8)\n",
        "              6 LOAD_CONST               3 (6)\n",
        "              9 LOAD_CONST               4 (4)\n",
        "             12 LOAD_CONST               5 (2)\n",
        "             15 LOAD_CONST               6 (1)\n",
        "             18 LOAD_CONST               7 (3)\n",
        "             21 LOAD_CONST               8 (5)\n",
        "             24 LOAD_CONST               9 (7)\n",
        "             27 LOAD_CONST              10 (9)\n",
        "             30 BUILD_LIST              10\n",
        "             33 STORE_FAST               0 (values)\n",
        "\n",
        "  3          36 LOAD_GLOBAL              0 (sorted)\n",
        "             39 LOAD_FAST                0 (values)\n",
        "             42 CALL_FUNCTION            1 (1 positional, 0 keyword pair)\n",
        "             45 RETURN_VALUE\n"
       ]
      }
     ],
     "prompt_number": 156
    },
    {
     "cell_type": "markdown",
     "metadata": {},
     "source": [
      "#Test 3 Unpack or not to unpack, this is a question."
     ]
    },
    {
     "cell_type": "code",
     "collapsed": false,
     "input": [
      "def a():\n",
      "    a = 0\n",
      "    b = 1\n",
      "    c = 2\n",
      "    d = 3\n",
      "    e = 4\n",
      "    f = 5\n",
      "    g = 6\n",
      "    h = 7\n",
      "    i = 8\n",
      "    j = 9\n",
      "    return j, i, h, g, f, d, e, c, b, a\n",
      "\n",
      "print(timeit(a, number=1000000))\n",
      "dis(a)"
     ],
     "language": "python",
     "metadata": {},
     "outputs": [
      {
       "output_type": "stream",
       "stream": "stdout",
       "text": [
        "0.3168467159998727\n",
        "  2           0 LOAD_CONST               1 (0)\n",
        "              3 STORE_FAST               0 (a)\n",
        "\n",
        "  3           6 LOAD_CONST               2 (1)\n",
        "              9 STORE_FAST               1 (b)\n",
        "\n",
        "  4          12 LOAD_CONST               3 (2)\n",
        "             15 STORE_FAST               2 (c)\n",
        "\n",
        "  5          18 LOAD_CONST               4 (3)\n",
        "             21 STORE_FAST               3 (d)\n",
        "\n",
        "  6          24 LOAD_CONST               5 (4)\n",
        "             27 STORE_FAST               4 (e)\n",
        "\n",
        "  7          30 LOAD_CONST               6 (5)\n",
        "             33 STORE_FAST               5 (f)\n",
        "\n",
        "  8          36 LOAD_CONST               7 (6)\n",
        "             39 STORE_FAST               6 (g)\n",
        "\n",
        "  9          42 LOAD_CONST               8 (7)\n",
        "             45 STORE_FAST               7 (h)\n",
        "\n",
        " 10          48 LOAD_CONST               9 (8)\n",
        "             51 STORE_FAST               8 (i)\n",
        "\n",
        " 11          54 LOAD_CONST              10 (9)\n",
        "             57 STORE_FAST               9 (j)\n",
        "\n",
        " 12          60 LOAD_FAST                9 (j)\n",
        "             63 LOAD_FAST                8 (i)\n",
        "             66 LOAD_FAST                7 (h)\n",
        "             69 LOAD_FAST                6 (g)\n",
        "             72 LOAD_FAST                5 (f)\n",
        "             75 LOAD_FAST                3 (d)\n",
        "             78 LOAD_FAST                4 (e)\n",
        "             81 LOAD_FAST                2 (c)\n",
        "             84 LOAD_FAST                1 (b)\n",
        "             87 LOAD_FAST                0 (a)\n",
        "             90 BUILD_TUPLE             10\n",
        "             93 RETURN_VALUE\n"
       ]
      }
     ],
     "prompt_number": 77
    },
    {
     "cell_type": "code",
     "collapsed": false,
     "input": [
      "def a():\n",
      "    a, b, c, d, e, f, g, h, i, j = 0, 1, 2, 3, 4, 5, 6, 7, 8, 9\n",
      "    return j, i, h, g, f, d, e, c, b, a\n",
      "\n",
      "print(timeit(a, number=1000000))\n",
      "dis(a)"
     ],
     "language": "python",
     "metadata": {},
     "outputs": [
      {
       "output_type": "stream",
       "stream": "stdout",
       "text": [
        "0.3016407319996688\n",
        "  2           0 LOAD_CONST              11 ((0, 1, 2, 3, 4, 5, 6, 7, 8, 9))\n",
        "              3 UNPACK_SEQUENCE         10\n",
        "              6 STORE_FAST               0 (a)\n",
        "              9 STORE_FAST               1 (b)\n",
        "             12 STORE_FAST               2 (c)\n",
        "             15 STORE_FAST               3 (d)\n",
        "             18 STORE_FAST               4 (e)\n",
        "             21 STORE_FAST               5 (f)\n",
        "             24 STORE_FAST               6 (g)\n",
        "             27 STORE_FAST               7 (h)\n",
        "             30 STORE_FAST               8 (i)\n",
        "             33 STORE_FAST               9 (j)\n",
        "\n",
        "  3          36 LOAD_FAST                9 (j)\n",
        "             39 LOAD_FAST                8 (i)\n",
        "             42 LOAD_FAST                7 (h)\n",
        "             45 LOAD_FAST                6 (g)\n",
        "             48 LOAD_FAST                5 (f)\n",
        "             51 LOAD_FAST                3 (d)\n",
        "             54 LOAD_FAST                4 (e)\n",
        "             57 LOAD_FAST                2 (c)\n",
        "             60 LOAD_FAST                1 (b)\n",
        "             63 LOAD_FAST                0 (a)\n",
        "             66 BUILD_TUPLE             10\n",
        "             69 RETURN_VALUE\n"
       ]
      }
     ],
     "prompt_number": 78
    },
    {
     "cell_type": "markdown",
     "metadata": {},
     "source": [
      " #Test 4 and or one-line compare?"
     ]
    },
    {
     "cell_type": "code",
     "collapsed": false,
     "input": [
      "def a():\n",
      "    a, b, c, d, e, f = 2, 5, 52, 25, 225, 552\n",
      "    if a < b and b < c and c < d and d < e and e < f:\n",
      "        return True\n",
      "    return False\n",
      "\n",
      "print(timeit(a, number=1000000))\n",
      "dis(a)"
     ],
     "language": "python",
     "metadata": {},
     "outputs": [
      {
       "output_type": "stream",
       "stream": "stdout",
       "text": [
        "0.2746040540005197\n",
        "  2           0 LOAD_CONST               9 ((2, 5, 52, 25, 225, 552))\n",
        "              3 UNPACK_SEQUENCE          6\n",
        "              6 STORE_FAST               0 (a)\n",
        "              9 STORE_FAST               1 (b)\n",
        "             12 STORE_FAST               2 (c)\n",
        "             15 STORE_FAST               3 (d)\n",
        "             18 STORE_FAST               4 (e)\n",
        "             21 STORE_FAST               5 (f)\n",
        "\n",
        "  3          24 LOAD_FAST                0 (a)\n",
        "             27 LOAD_FAST                1 (b)\n",
        "             30 COMPARE_OP               0 (<)\n",
        "             33 POP_JUMP_IF_FALSE       88\n",
        "             36 LOAD_FAST                1 (b)\n",
        "             39 LOAD_FAST                2 (c)\n",
        "             42 COMPARE_OP               0 (<)\n",
        "             45 POP_JUMP_IF_FALSE       88\n",
        "             48 LOAD_FAST                2 (c)\n",
        "             51 LOAD_FAST                3 (d)\n",
        "             54 COMPARE_OP               0 (<)\n",
        "             57 POP_JUMP_IF_FALSE       88\n",
        "             60 LOAD_FAST                3 (d)\n",
        "             63 LOAD_FAST                4 (e)\n",
        "             66 COMPARE_OP               0 (<)\n",
        "             69 POP_JUMP_IF_FALSE       88\n",
        "             72 LOAD_FAST                4 (e)\n",
        "             75 LOAD_FAST                5 (f)\n",
        "             78 COMPARE_OP               0 (<)\n",
        "             81 POP_JUMP_IF_FALSE       88\n",
        "\n",
        "  4          84 LOAD_CONST               7 (True)\n",
        "             87 RETURN_VALUE\n",
        "\n",
        "  5     >>   88 LOAD_CONST               8 (False)\n",
        "             91 RETURN_VALUE\n"
       ]
      }
     ],
     "prompt_number": 142
    },
    {
     "cell_type": "code",
     "collapsed": false,
     "input": [
      "def a():\n",
      "    a, b, c, d, e, f = 2, 5, 52, 25, 225, 552\n",
      "    if a < b < c < d < e < f:\n",
      "        return True\n",
      "    return False\n",
      "\n",
      "print(timeit(a, number=1000000))\n",
      "dis(a)"
     ],
     "language": "python",
     "metadata": {},
     "outputs": [
      {
       "output_type": "stream",
       "stream": "stdout",
       "text": [
        "0.29972205299964116\n",
        "  2           0 LOAD_CONST               9 ((2, 5, 52, 25, 225, 552))\n",
        "              3 UNPACK_SEQUENCE          6\n",
        "              6 STORE_FAST               0 (a)\n",
        "              9 STORE_FAST               1 (b)\n",
        "             12 STORE_FAST               2 (c)\n",
        "             15 STORE_FAST               3 (d)\n",
        "             18 STORE_FAST               4 (e)\n",
        "             21 STORE_FAST               5 (f)\n",
        "\n",
        "  3          24 LOAD_FAST                0 (a)\n",
        "             27 LOAD_FAST                1 (b)\n",
        "             30 DUP_TOP\n",
        "             31 ROT_THREE\n",
        "             32 COMPARE_OP               0 (<)\n",
        "             35 JUMP_IF_FALSE_OR_POP    80\n",
        "             38 LOAD_FAST                2 (c)\n",
        "             41 DUP_TOP\n",
        "             42 ROT_THREE\n",
        "             43 COMPARE_OP               0 (<)\n",
        "             46 JUMP_IF_FALSE_OR_POP    80\n",
        "             49 LOAD_FAST                3 (d)\n",
        "             52 DUP_TOP\n",
        "             53 ROT_THREE\n",
        "             54 COMPARE_OP               0 (<)\n",
        "             57 JUMP_IF_FALSE_OR_POP    80\n",
        "             60 LOAD_FAST                4 (e)\n",
        "             63 DUP_TOP\n",
        "             64 ROT_THREE\n",
        "             65 COMPARE_OP               0 (<)\n",
        "             68 JUMP_IF_FALSE_OR_POP    80\n",
        "             71 LOAD_FAST                5 (f)\n",
        "             74 COMPARE_OP               0 (<)\n",
        "             77 JUMP_FORWARD             2 (to 82)\n",
        "        >>   80 ROT_TWO\n",
        "             81 POP_TOP\n",
        "        >>   82 POP_JUMP_IF_FALSE       89\n",
        "\n",
        "  4          85 LOAD_CONST               7 (True)\n",
        "             88 RETURN_VALUE\n",
        "\n",
        "  5     >>   89 LOAD_CONST               8 (False)\n",
        "             92 RETURN_VALUE\n"
       ]
      }
     ],
     "prompt_number": 80
    },
    {
     "cell_type": "markdown",
     "metadata": {},
     "source": [
      "#Test 5 If test"
     ]
    },
    {
     "cell_type": "code",
     "collapsed": false,
     "input": [
      "def a():\n",
      "    a = True\n",
      "    if a:\n",
      "        return True\n",
      "    return False\n",
      "\n",
      "print(timeit(a, number=1000000))\n",
      "dis(a)"
     ],
     "language": "python",
     "metadata": {},
     "outputs": [
      {
       "output_type": "stream",
       "stream": "stdout",
       "text": [
        "0.1272395040000447\n",
        "  2           0 LOAD_CONST               1 (True)\n",
        "              3 STORE_FAST               0 (a)\n",
        "\n",
        "  3           6 LOAD_FAST                0 (a)\n",
        "              9 POP_JUMP_IF_FALSE       16\n",
        "\n",
        "  4          12 LOAD_CONST               1 (True)\n",
        "             15 RETURN_VALUE\n",
        "\n",
        "  5     >>   16 LOAD_CONST               2 (False)\n",
        "             19 RETURN_VALUE\n"
       ]
      }
     ],
     "prompt_number": 81
    },
    {
     "cell_type": "code",
     "collapsed": false,
     "input": [
      "def a():\n",
      "    a = True\n",
      "    if a is True:\n",
      "        return True\n",
      "    return False\n",
      "\n",
      "print(timeit(a, number=1000000))\n",
      "dis(a)"
     ],
     "language": "python",
     "metadata": {},
     "outputs": [
      {
       "output_type": "stream",
       "stream": "stdout",
       "text": [
        "0.13072220999993078\n",
        "  2           0 LOAD_CONST               1 (True)\n",
        "              3 STORE_FAST               0 (a)\n",
        "\n",
        "  3           6 LOAD_FAST                0 (a)\n",
        "              9 LOAD_CONST               1 (True)\n",
        "             12 COMPARE_OP               8 (is)\n",
        "             15 POP_JUMP_IF_FALSE       22\n",
        "\n",
        "  4          18 LOAD_CONST               1 (True)\n",
        "             21 RETURN_VALUE\n",
        "\n",
        "  5     >>   22 LOAD_CONST               2 (False)\n",
        "             25 RETURN_VALUE\n"
       ]
      }
     ],
     "prompt_number": 82
    },
    {
     "cell_type": "code",
     "collapsed": false,
     "input": [
      "def a():\n",
      "    a = True\n",
      "    if a == True:\n",
      "        return True\n",
      "    return False\n",
      "\n",
      "print(timeit(a, number=1000000))\n",
      "dis(a)"
     ],
     "language": "python",
     "metadata": {},
     "outputs": [
      {
       "output_type": "stream",
       "stream": "stdout",
       "text": [
        "0.1735655070001485\n",
        "  2           0 LOAD_CONST               1 (True)\n",
        "              3 STORE_FAST               0 (a)\n",
        "\n",
        "  3           6 LOAD_FAST                0 (a)\n",
        "              9 LOAD_CONST               1 (True)\n",
        "             12 COMPARE_OP               2 (==)\n",
        "             15 POP_JUMP_IF_FALSE       22\n",
        "\n",
        "  4          18 LOAD_CONST               1 (True)\n",
        "             21 RETURN_VALUE\n",
        "\n",
        "  5     >>   22 LOAD_CONST               2 (False)\n",
        "             25 RETURN_VALUE\n"
       ]
      }
     ],
     "prompt_number": 83
    },
    {
     "cell_type": "markdown",
     "metadata": {},
     "source": [
      "#Test 6 Compare numbers"
     ]
    },
    {
     "cell_type": "code",
     "collapsed": false,
     "input": [
      "def a():\n",
      "    a = 1\n",
      "    if a is not 2:\n",
      "        return True\n",
      "    return False\n",
      "\n",
      "print(timeit(a, number=1000000))\n",
      "dis(a)"
     ],
     "language": "python",
     "metadata": {},
     "outputs": [
      {
       "output_type": "stream",
       "stream": "stdout",
       "text": [
        "0.13032606999968266\n",
        "  2           0 LOAD_CONST               1 (1)\n",
        "              3 STORE_FAST               0 (a)\n",
        "\n",
        "  3           6 LOAD_FAST                0 (a)\n",
        "              9 LOAD_CONST               2 (2)\n",
        "             12 COMPARE_OP               9 (is not)\n",
        "             15 POP_JUMP_IF_FALSE       22\n",
        "\n",
        "  4          18 LOAD_CONST               3 (True)\n",
        "             21 RETURN_VALUE\n",
        "\n",
        "  5     >>   22 LOAD_CONST               4 (False)\n",
        "             25 RETURN_VALUE\n"
       ]
      }
     ],
     "prompt_number": 143
    },
    {
     "cell_type": "code",
     "collapsed": false,
     "input": [
      "def a():\n",
      "    a = 1\n",
      "    if a != 2:\n",
      "        return True\n",
      "    return False\n",
      "\n",
      "print(timeit(a, number=1000000))\n",
      "dis(a)"
     ],
     "language": "python",
     "metadata": {},
     "outputs": [
      {
       "output_type": "stream",
       "stream": "stdout",
       "text": [
        "0.16733070600002975\n",
        "  2           0 LOAD_CONST               1 (1)\n",
        "              3 STORE_FAST               0 (a)\n",
        "\n",
        "  3           6 LOAD_FAST                0 (a)\n",
        "              9 LOAD_CONST               2 (2)\n",
        "             12 COMPARE_OP               3 (!=)\n",
        "             15 POP_JUMP_IF_FALSE       22\n",
        "\n",
        "  4          18 LOAD_CONST               3 (True)\n",
        "             21 RETURN_VALUE\n",
        "\n",
        "  5     >>   22 LOAD_CONST               4 (False)\n",
        "             25 RETURN_VALUE\n"
       ]
      }
     ],
     "prompt_number": 85
    },
    {
     "cell_type": "code",
     "collapsed": false,
     "input": [
      "def a():\n",
      "    a = 1\n",
      "    if not a is 2:\n",
      "        return True\n",
      "    return False\n",
      "\n",
      "print(timeit(a, number=1000000))\n",
      "dis(a)"
     ],
     "language": "python",
     "metadata": {},
     "outputs": [
      {
       "output_type": "stream",
       "stream": "stdout",
       "text": [
        "0.13366546199995355\n",
        "  2           0 LOAD_CONST               1 (1)\n",
        "              3 STORE_FAST               0 (a)\n",
        "\n",
        "  3           6 LOAD_FAST                0 (a)\n",
        "              9 LOAD_CONST               2 (2)\n",
        "             12 COMPARE_OP               9 (is not)\n",
        "             15 POP_JUMP_IF_FALSE       22\n",
        "\n",
        "  4          18 LOAD_CONST               3 (True)\n",
        "             21 RETURN_VALUE\n",
        "\n",
        "  5     >>   22 LOAD_CONST               4 (False)\n",
        "             25 RETURN_VALUE\n"
       ]
      }
     ],
     "prompt_number": 86
    },
    {
     "cell_type": "markdown",
     "metadata": {},
     "source": [
      "#Test 7 list as bool"
     ]
    },
    {
     "cell_type": "code",
     "collapsed": false,
     "input": [
      "def a():\n",
      "    a = []\n",
      "    if a:\n",
      "        return True\n",
      "    return False\n",
      "\n",
      "print(timeit(a, number=1000000))\n",
      "dis(a)"
     ],
     "language": "python",
     "metadata": {},
     "outputs": [
      {
       "output_type": "stream",
       "stream": "stdout",
       "text": [
        "0.14538182500018593\n",
        "  2           0 BUILD_LIST               0\n",
        "              3 STORE_FAST               0 (a)\n",
        "\n",
        "  3           6 LOAD_FAST                0 (a)\n",
        "              9 POP_JUMP_IF_FALSE       16\n",
        "\n",
        "  4          12 LOAD_CONST               1 (True)\n",
        "             15 RETURN_VALUE\n",
        "\n",
        "  5     >>   16 LOAD_CONST               2 (False)\n",
        "             19 RETURN_VALUE\n"
       ]
      }
     ],
     "prompt_number": 87
    },
    {
     "cell_type": "code",
     "collapsed": false,
     "input": [
      "def a():\n",
      "    a = []\n",
      "    if not a:\n",
      "        return True\n",
      "    return False\n",
      "\n",
      "print(timeit(a, number=1000000))\n",
      "dis(a)"
     ],
     "language": "python",
     "metadata": {},
     "outputs": [
      {
       "output_type": "stream",
       "stream": "stdout",
       "text": [
        "0.16852708700025687\n",
        "  2           0 BUILD_LIST               0\n",
        "              3 STORE_FAST               0 (a)\n",
        "\n",
        "  3           6 LOAD_FAST                0 (a)\n",
        "              9 POP_JUMP_IF_TRUE        16\n",
        "\n",
        "  4          12 LOAD_CONST               1 (True)\n",
        "             15 RETURN_VALUE\n",
        "\n",
        "  5     >>   16 LOAD_CONST               2 (False)\n",
        "             19 RETURN_VALUE\n"
       ]
      }
     ],
     "prompt_number": 88
    },
    {
     "cell_type": "code",
     "collapsed": false,
     "input": [
      "def a():\n",
      "    a = []\n",
      "    if a == []:\n",
      "        return True\n",
      "    return False\n",
      "\n",
      "print(timeit(a, number=1000000))\n",
      "dis(a)"
     ],
     "language": "python",
     "metadata": {},
     "outputs": [
      {
       "output_type": "stream",
       "stream": "stdout",
       "text": [
        "0.19714999999996508\n",
        "  2           0 BUILD_LIST               0\n",
        "              3 STORE_FAST               0 (a)\n",
        "\n",
        "  3           6 LOAD_FAST                0 (a)\n",
        "              9 BUILD_LIST               0\n",
        "             12 COMPARE_OP               2 (==)\n",
        "             15 POP_JUMP_IF_FALSE       22\n",
        "\n",
        "  4          18 LOAD_CONST               1 (True)\n",
        "             21 RETURN_VALUE\n",
        "\n",
        "  5     >>   22 LOAD_CONST               2 (False)\n",
        "             25 RETURN_VALUE\n"
       ]
      }
     ],
     "prompt_number": 89
    },
    {
     "cell_type": "code",
     "collapsed": false,
     "input": [
      "def a():\n",
      "    a = []\n",
      "    if len(a) <= 0:\n",
      "        return True\n",
      "    return False\n",
      "\n",
      "print(timeit(a, number=1000000))\n",
      "dis(a)"
     ],
     "language": "python",
     "metadata": {},
     "outputs": [
      {
       "output_type": "stream",
       "stream": "stdout",
       "text": [
        "0.2245052250000299\n",
        "  2           0 BUILD_LIST               0\n",
        "              3 STORE_FAST               0 (a)\n",
        "\n",
        "  3           6 LOAD_GLOBAL              0 (len)\n",
        "              9 LOAD_FAST                0 (a)\n",
        "             12 CALL_FUNCTION            1 (1 positional, 0 keyword pair)\n",
        "             15 LOAD_CONST               1 (0)\n",
        "             18 COMPARE_OP               1 (<=)\n",
        "             21 POP_JUMP_IF_FALSE       28\n",
        "\n",
        "  4          24 LOAD_CONST               2 (True)\n",
        "             27 RETURN_VALUE\n",
        "\n",
        "  5     >>   28 LOAD_CONST               3 (False)\n",
        "             31 RETURN_VALUE\n"
       ]
      }
     ],
     "prompt_number": 90
    },
    {
     "cell_type": "markdown",
     "metadata": {},
     "source": [
      "#Test 8"
     ]
    },
    {
     "cell_type": "code",
     "collapsed": false,
     "input": [
      "def a():\n",
      "    a = object()\n",
      "    if a is not None:\n",
      "        return True\n",
      "    return False\n",
      "\n",
      "print(timeit(a, number=1000000))\n",
      "dis(a)"
     ],
     "language": "python",
     "metadata": {},
     "outputs": [
      {
       "output_type": "stream",
       "stream": "stdout",
       "text": [
        "0.24202435300003344\n",
        "  2           0 LOAD_GLOBAL              0 (object)\n",
        "              3 CALL_FUNCTION            0 (0 positional, 0 keyword pair)\n",
        "              6 STORE_FAST               0 (a)\n",
        "\n",
        "  3           9 LOAD_FAST                0 (a)\n",
        "             12 LOAD_CONST               0 (None)\n",
        "             15 COMPARE_OP               9 (is not)\n",
        "             18 POP_JUMP_IF_FALSE       25\n",
        "\n",
        "  4          21 LOAD_CONST               1 (True)\n",
        "             24 RETURN_VALUE\n",
        "\n",
        "  5     >>   25 LOAD_CONST               2 (False)\n",
        "             28 RETURN_VALUE\n"
       ]
      }
     ],
     "prompt_number": 91
    },
    {
     "cell_type": "code",
     "collapsed": false,
     "input": [
      "def a():\n",
      "    a = object()\n",
      "    if a:\n",
      "        return True\n",
      "    return False\n",
      "\n",
      "print(timeit(a, number=1000000))\n",
      "dis(a)"
     ],
     "language": "python",
     "metadata": {},
     "outputs": [
      {
       "output_type": "stream",
       "stream": "stdout",
       "text": [
        "0.2340331820000756\n",
        "  2           0 LOAD_GLOBAL              0 (object)\n",
        "              3 CALL_FUNCTION            0 (0 positional, 0 keyword pair)\n",
        "              6 STORE_FAST               0 (a)\n",
        "\n",
        "  3           9 LOAD_FAST                0 (a)\n",
        "             12 POP_JUMP_IF_FALSE       19\n",
        "\n",
        "  4          15 LOAD_CONST               1 (True)\n",
        "             18 RETURN_VALUE\n",
        "\n",
        "  5     >>   19 LOAD_CONST               2 (False)\n",
        "             22 RETURN_VALUE\n"
       ]
      }
     ],
     "prompt_number": 92
    },
    {
     "cell_type": "code",
     "collapsed": false,
     "input": [
      "def a():\n",
      "    a = object()\n",
      "    if a is None:\n",
      "        return True\n",
      "    return False\n",
      "\n",
      "print(timeit(a, number=1000000))\n",
      "dis(a)"
     ],
     "language": "python",
     "metadata": {},
     "outputs": [
      {
       "output_type": "stream",
       "stream": "stdout",
       "text": [
        "0.25263889999996536\n",
        "  2           0 LOAD_GLOBAL              0 (object)\n",
        "              3 CALL_FUNCTION            0 (0 positional, 0 keyword pair)\n",
        "              6 STORE_FAST               0 (a)\n",
        "\n",
        "  3           9 LOAD_FAST                0 (a)\n",
        "             12 LOAD_CONST               0 (None)\n",
        "             15 COMPARE_OP               8 (is)\n",
        "             18 POP_JUMP_IF_FALSE       25\n",
        "\n",
        "  4          21 LOAD_CONST               1 (True)\n",
        "             24 RETURN_VALUE\n",
        "\n",
        "  5     >>   25 LOAD_CONST               2 (False)\n",
        "             28 RETURN_VALUE\n"
       ]
      }
     ],
     "prompt_number": 93
    },
    {
     "cell_type": "code",
     "collapsed": false,
     "input": [
      "def a():\n",
      "    a = object()\n",
      "    if not a:\n",
      "        return True\n",
      "    return False\n",
      "\n",
      "print(timeit(a, number=1000000))\n",
      "dis(a)"
     ],
     "language": "python",
     "metadata": {},
     "outputs": [
      {
       "output_type": "stream",
       "stream": "stdout",
       "text": [
        "0.23993532999975287\n",
        "  2           0 LOAD_GLOBAL              0 (object)\n",
        "              3 CALL_FUNCTION            0 (0 positional, 0 keyword pair)\n",
        "              6 STORE_FAST               0 (a)\n",
        "\n",
        "  3           9 LOAD_FAST                0 (a)\n",
        "             12 POP_JUMP_IF_TRUE        19\n",
        "\n",
        "  4          15 LOAD_CONST               1 (True)\n",
        "             18 RETURN_VALUE\n",
        "\n",
        "  5     >>   19 LOAD_CONST               2 (False)\n",
        "             22 RETURN_VALUE\n"
       ]
      }
     ],
     "prompt_number": 94
    },
    {
     "cell_type": "markdown",
     "metadata": {},
     "source": [
      "# Test 9 Join strings"
     ]
    },
    {
     "cell_type": "code",
     "collapsed": false,
     "input": [
      "def a():\n",
      "    r = ''\n",
      "    for i in range(10):\n",
      "        r += str(i)\n",
      "    return r\n",
      "\n",
      "print(timeit(a, number=1000000))\n",
      "dis(a)"
     ],
     "language": "python",
     "metadata": {},
     "outputs": [
      {
       "output_type": "stream",
       "stream": "stdout",
       "text": [
        "4.278912493000007\n",
        "  2           0 LOAD_CONST               1 ('')\n",
        "              3 STORE_FAST               0 (r)\n",
        "\n",
        "  3           6 SETUP_LOOP              36 (to 45)\n",
        "              9 LOAD_GLOBAL              0 (range)\n",
        "             12 LOAD_CONST               2 (10)\n",
        "             15 CALL_FUNCTION            1 (1 positional, 0 keyword pair)\n",
        "             18 GET_ITER\n",
        "        >>   19 FOR_ITER                22 (to 44)\n",
        "             22 STORE_FAST               1 (i)\n",
        "\n",
        "  4          25 LOAD_FAST                0 (r)\n",
        "             28 LOAD_GLOBAL              1 (str)\n",
        "             31 LOAD_FAST                1 (i)\n",
        "             34 CALL_FUNCTION            1 (1 positional, 0 keyword pair)\n",
        "             37 INPLACE_ADD\n",
        "             38 STORE_FAST               0 (r)\n",
        "             41 JUMP_ABSOLUTE           19\n",
        "        >>   44 POP_BLOCK\n",
        "\n",
        "  5     >>   45 LOAD_FAST                0 (r)\n",
        "             48 RETURN_VALUE\n"
       ]
      }
     ],
     "prompt_number": 95
    },
    {
     "cell_type": "code",
     "collapsed": false,
     "input": [
      "def a():\n",
      "    r = []\n",
      "    for i in range(10):\n",
      "        r.append(str(i))\n",
      "    return ''.join(r)\n",
      "\n",
      "print(timeit(a, number=1000000))\n",
      "dis(a)"
     ],
     "language": "python",
     "metadata": {},
     "outputs": [
      {
       "output_type": "stream",
       "stream": "stdout",
       "text": [
        "5.2581189970001105\n",
        "  2           0 BUILD_LIST               0\n",
        "              3 STORE_FAST               0 (r)\n",
        "\n",
        "  3           6 SETUP_LOOP              39 (to 48)\n",
        "              9 LOAD_GLOBAL              0 (range)\n",
        "             12 LOAD_CONST               1 (10)\n",
        "             15 CALL_FUNCTION            1 (1 positional, 0 keyword pair)\n",
        "             18 GET_ITER\n",
        "        >>   19 FOR_ITER                25 (to 47)\n",
        "             22 STORE_FAST               1 (i)\n",
        "\n",
        "  4          25 LOAD_FAST                0 (r)\n",
        "             28 LOAD_ATTR                1 (append)\n",
        "             31 LOAD_GLOBAL              2 (str)\n",
        "             34 LOAD_FAST                1 (i)\n",
        "             37 CALL_FUNCTION            1 (1 positional, 0 keyword pair)\n",
        "             40 CALL_FUNCTION            1 (1 positional, 0 keyword pair)\n",
        "             43 POP_TOP\n",
        "             44 JUMP_ABSOLUTE           19\n",
        "        >>   47 POP_BLOCK\n",
        "\n",
        "  5     >>   48 LOAD_CONST               2 ('')\n",
        "             51 LOAD_ATTR                3 (join)\n",
        "             54 LOAD_FAST                0 (r)\n",
        "             57 CALL_FUNCTION            1 (1 positional, 0 keyword pair)\n",
        "             60 RETURN_VALUE\n"
       ]
      }
     ],
     "prompt_number": 96
    },
    {
     "cell_type": "markdown",
     "metadata": {},
     "source": [
      "#Test 10 Result of computation to string"
     ]
    },
    {
     "cell_type": "code",
     "collapsed": false,
     "input": [
      "def a():\n",
      "    b = 2\n",
      "    c = 3\n",
      "    d = 4\n",
      "    return \"%s\" % (b*(c+d))\n",
      "\n",
      "print(timeit(a, number=1000000))\n",
      "dis(a)"
     ],
     "language": "python",
     "metadata": {},
     "outputs": [
      {
       "output_type": "stream",
       "stream": "stdout",
       "text": [
        "0.3392764549998901\n",
        "  2           0 LOAD_CONST               1 (2)\n",
        "              3 STORE_FAST               0 (b)\n",
        "\n",
        "  3           6 LOAD_CONST               2 (3)\n",
        "              9 STORE_FAST               1 (c)\n",
        "\n",
        "  4          12 LOAD_CONST               3 (4)\n",
        "             15 STORE_FAST               2 (d)\n",
        "\n",
        "  5          18 LOAD_CONST               4 ('%s')\n",
        "             21 LOAD_FAST                0 (b)\n",
        "             24 LOAD_FAST                1 (c)\n",
        "             27 LOAD_FAST                2 (d)\n",
        "             30 BINARY_ADD\n",
        "             31 BINARY_MULTIPLY\n",
        "             32 BINARY_MODULO\n",
        "             33 RETURN_VALUE\n"
       ]
      }
     ],
     "prompt_number": 97
    },
    {
     "cell_type": "code",
     "collapsed": false,
     "input": [
      "def a():\n",
      "    b = 2\n",
      "    c = 3\n",
      "    d = 4\n",
      "    return str(b*(c+d))\n",
      "\n",
      "print(timeit(a, number=1000000))\n",
      "dis(a)"
     ],
     "language": "python",
     "metadata": {},
     "outputs": [
      {
       "output_type": "stream",
       "stream": "stdout",
       "text": [
        "0.45732337899971753\n",
        "  2           0 LOAD_CONST               1 (2)\n",
        "              3 STORE_FAST               0 (b)\n",
        "\n",
        "  3           6 LOAD_CONST               2 (3)\n",
        "              9 STORE_FAST               1 (c)\n",
        "\n",
        "  4          12 LOAD_CONST               3 (4)\n",
        "             15 STORE_FAST               2 (d)\n",
        "\n",
        "  5          18 LOAD_GLOBAL              0 (str)\n",
        "             21 LOAD_FAST                0 (b)\n",
        "             24 LOAD_FAST                1 (c)\n",
        "             27 LOAD_FAST                2 (d)\n",
        "             30 BINARY_ADD\n",
        "             31 BINARY_MULTIPLY\n",
        "             32 CALL_FUNCTION            1 (1 positional, 0 keyword pair)\n",
        "             35 RETURN_VALUE\n"
       ]
      }
     ],
     "prompt_number": 98
    },
    {
     "cell_type": "code",
     "collapsed": false,
     "input": [
      "def a():\n",
      "    b = 2\n",
      "    c = 3\n",
      "    d = 4\n",
      "    return \"%d\" % (b*(c+d))\n",
      "\n",
      "print(timeit(a, number=1000000))\n",
      "dis(a)"
     ],
     "language": "python",
     "metadata": {},
     "outputs": [
      {
       "output_type": "stream",
       "stream": "stdout",
       "text": [
        "0.3454154330001984\n",
        "  2           0 LOAD_CONST               1 (2)\n",
        "              3 STORE_FAST               0 (b)\n",
        "\n",
        "  3           6 LOAD_CONST               2 (3)\n",
        "              9 STORE_FAST               1 (c)\n",
        "\n",
        "  4          12 LOAD_CONST               3 (4)\n",
        "             15 STORE_FAST               2 (d)\n",
        "\n",
        "  5          18 LOAD_CONST               4 ('%d')\n",
        "             21 LOAD_FAST                0 (b)\n",
        "             24 LOAD_FAST                1 (c)\n",
        "             27 LOAD_FAST                2 (d)\n",
        "             30 BINARY_ADD\n",
        "             31 BINARY_MULTIPLY\n",
        "             32 BINARY_MODULO\n",
        "             33 RETURN_VALUE\n"
       ]
      }
     ],
     "prompt_number": 99
    },
    {
     "cell_type": "markdown",
     "metadata": {},
     "source": [
      "#Test 11 list len vs __len__"
     ]
    },
    {
     "cell_type": "code",
     "collapsed": false,
     "input": [
      "def a():\n",
      "    l = [1, 2, 3, 4, 5, 6, 7, 8]\n",
      "    return len(l)\n",
      "\n",
      "print(timeit(a, number=1000000))\n",
      "dis(a)"
     ],
     "language": "python",
     "metadata": {},
     "outputs": [
      {
       "output_type": "stream",
       "stream": "stdout",
       "text": [
        "0.3265008069997748\n",
        "  2           0 LOAD_CONST               1 (1)\n",
        "              3 LOAD_CONST               2 (2)\n",
        "              6 LOAD_CONST               3 (3)\n",
        "              9 LOAD_CONST               4 (4)\n",
        "             12 LOAD_CONST               5 (5)\n",
        "             15 LOAD_CONST               6 (6)\n",
        "             18 LOAD_CONST               7 (7)\n",
        "             21 LOAD_CONST               8 (8)\n",
        "             24 BUILD_LIST               8\n",
        "             27 STORE_FAST               0 (l)\n",
        "\n",
        "  3          30 LOAD_GLOBAL              0 (len)\n",
        "             33 LOAD_FAST                0 (l)\n",
        "             36 CALL_FUNCTION            1 (1 positional, 0 keyword pair)\n",
        "             39 RETURN_VALUE\n"
       ]
      }
     ],
     "prompt_number": 100
    },
    {
     "cell_type": "code",
     "collapsed": false,
     "input": [
      "def a():\n",
      "    l = [1, 2, 3, 4, 5, 6, 7, 8]\n",
      "    return l.__len__()\n",
      "\n",
      "print(timeit(a, number=1000000))\n",
      "dis(a)"
     ],
     "language": "python",
     "metadata": {},
     "outputs": [
      {
       "output_type": "stream",
       "stream": "stdout",
       "text": [
        "0.3567113519998202\n",
        "  2           0 LOAD_CONST               1 (1)\n",
        "              3 LOAD_CONST               2 (2)\n",
        "              6 LOAD_CONST               3 (3)\n",
        "              9 LOAD_CONST               4 (4)\n",
        "             12 LOAD_CONST               5 (5)\n",
        "             15 LOAD_CONST               6 (6)\n",
        "             18 LOAD_CONST               7 (7)\n",
        "             21 LOAD_CONST               8 (8)\n",
        "             24 BUILD_LIST               8\n",
        "             27 STORE_FAST               0 (l)\n",
        "\n",
        "  3          30 LOAD_FAST                0 (l)\n",
        "             33 LOAD_ATTR                0 (__len__)\n",
        "             36 CALL_FUNCTION            0 (0 positional, 0 keyword pair)\n",
        "             39 RETURN_VALUE\n"
       ]
      }
     ],
     "prompt_number": 101
    },
    {
     "cell_type": "markdown",
     "metadata": {},
     "source": [
      "# Test 12"
     ]
    },
    {
     "cell_type": "code",
     "collapsed": false,
     "input": [
      "def a():\n",
      "    b = 2\n",
      "    c = 3\n",
      "    d = 4\n",
      "    e = 5\n",
      "    return (b+c+d)*e\n",
      "\n",
      "print(timeit(a, number=1000000))\n",
      "dis(a)"
     ],
     "language": "python",
     "metadata": {},
     "outputs": [
      {
       "output_type": "stream",
       "stream": "stdout",
       "text": [
        "0.2402282439998089\n",
        "  2           0 LOAD_CONST               1 (2)\n",
        "              3 STORE_FAST               0 (b)\n",
        "\n",
        "  3           6 LOAD_CONST               2 (3)\n",
        "              9 STORE_FAST               1 (c)\n",
        "\n",
        "  4          12 LOAD_CONST               3 (4)\n",
        "             15 STORE_FAST               2 (d)\n",
        "\n",
        "  5          18 LOAD_CONST               4 (5)\n",
        "             21 STORE_FAST               3 (e)\n",
        "\n",
        "  6          24 LOAD_FAST                0 (b)\n",
        "             27 LOAD_FAST                1 (c)\n",
        "             30 BINARY_ADD\n",
        "             31 LOAD_FAST                2 (d)\n",
        "             34 BINARY_ADD\n",
        "             35 LOAD_FAST                3 (e)\n",
        "             38 BINARY_MULTIPLY\n",
        "             39 RETURN_VALUE\n"
       ]
      }
     ],
     "prompt_number": 102
    },
    {
     "cell_type": "code",
     "collapsed": false,
     "input": [
      "def a():\n",
      "    b = 2\n",
      "    c = 3\n",
      "    d = 4\n",
      "    e = 5\n",
      "    return (b.__add__(c.__add__(d))).__mul__(e)\n",
      "\n",
      "print(timeit(a, number=1000000))\n",
      "dis(a)"
     ],
     "language": "python",
     "metadata": {},
     "outputs": [
      {
       "output_type": "stream",
       "stream": "stdout",
       "text": [
        "0.5490881210002954\n",
        "  2           0 LOAD_CONST               1 (2)\n",
        "              3 STORE_FAST               0 (b)\n",
        "\n",
        "  3           6 LOAD_CONST               2 (3)\n",
        "              9 STORE_FAST               1 (c)\n",
        "\n",
        "  4          12 LOAD_CONST               3 (4)\n",
        "             15 STORE_FAST               2 (d)\n",
        "\n",
        "  5          18 LOAD_CONST               4 (5)\n",
        "             21 STORE_FAST               3 (e)\n",
        "\n",
        "  6          24 LOAD_FAST                0 (b)\n",
        "             27 LOAD_ATTR                0 (__add__)\n",
        "             30 LOAD_FAST                1 (c)\n",
        "             33 LOAD_ATTR                0 (__add__)\n",
        "             36 LOAD_FAST                2 (d)\n",
        "             39 CALL_FUNCTION            1 (1 positional, 0 keyword pair)\n",
        "             42 CALL_FUNCTION            1 (1 positional, 0 keyword pair)\n",
        "             45 LOAD_ATTR                1 (__mul__)\n",
        "             48 LOAD_FAST                3 (e)\n",
        "             51 CALL_FUNCTION            1 (1 positional, 0 keyword pair)\n",
        "             54 RETURN_VALUE\n"
       ]
      }
     ],
     "prompt_number": 103
    },
    {
     "cell_type": "markdown",
     "metadata": {},
     "source": [
      "#Test 13"
     ]
    },
    {
     "cell_type": "code",
     "collapsed": false,
     "input": [
      "class Z():\n",
      "    def __init__(self, v):\n",
      "        self.v = v\n",
      "        \n",
      "    def __mul__(self, o):\n",
      "        return Z(self.v * o.v)\n",
      "    \n",
      "    def __add__(self, o):\n",
      "        return Z(self.v + o.v)"
     ],
     "language": "python",
     "metadata": {},
     "outputs": [],
     "prompt_number": 104
    },
    {
     "cell_type": "code",
     "collapsed": false,
     "input": [
      "def a():\n",
      "    b = Z(5)\n",
      "    c = Z(2)\n",
      "    d = Z(4)\n",
      "    return (b.__add__(c)).__mul__(d)\n",
      "\n",
      "print(timeit(a, number=1000000))\n",
      "dis(a)"
     ],
     "language": "python",
     "metadata": {},
     "outputs": [
      {
       "output_type": "stream",
       "stream": "stdout",
       "text": [
        "3.1516861889999745\n",
        "  2           0 LOAD_GLOBAL              0 (Z)\n",
        "              3 LOAD_CONST               1 (5)\n",
        "              6 CALL_FUNCTION            1 (1 positional, 0 keyword pair)\n",
        "              9 STORE_FAST               0 (b)\n",
        "\n",
        "  3          12 LOAD_GLOBAL              0 (Z)\n",
        "             15 LOAD_CONST               2 (2)\n",
        "             18 CALL_FUNCTION            1 (1 positional, 0 keyword pair)\n",
        "             21 STORE_FAST               1 (c)\n",
        "\n",
        "  4          24 LOAD_GLOBAL              0 (Z)\n",
        "             27 LOAD_CONST               3 (4)\n",
        "             30 CALL_FUNCTION            1 (1 positional, 0 keyword pair)\n",
        "             33 STORE_FAST               2 (d)\n",
        "\n",
        "  5          36 LOAD_FAST                0 (b)\n",
        "             39 LOAD_ATTR                1 (__add__)\n",
        "             42 LOAD_FAST                1 (c)\n",
        "             45 CALL_FUNCTION            1 (1 positional, 0 keyword pair)\n",
        "             48 LOAD_ATTR                2 (__mul__)\n",
        "             51 LOAD_FAST                2 (d)\n",
        "             54 CALL_FUNCTION            1 (1 positional, 0 keyword pair)\n",
        "             57 RETURN_VALUE\n"
       ]
      }
     ],
     "prompt_number": 105
    },
    {
     "cell_type": "code",
     "collapsed": false,
     "input": [
      "def a():\n",
      "    b = Z(5)\n",
      "    c = Z(2)\n",
      "    d = Z(4)\n",
      "    return (b + c) * d\n",
      "\n",
      "print(timeit(a, number=1000000))\n",
      "dis(a)"
     ],
     "language": "python",
     "metadata": {},
     "outputs": [
      {
       "output_type": "stream",
       "stream": "stdout",
       "text": [
        "3.4978951579996647\n",
        "  2           0 LOAD_GLOBAL              0 (Z)\n",
        "              3 LOAD_CONST               1 (5)\n",
        "              6 CALL_FUNCTION            1 (1 positional, 0 keyword pair)\n",
        "              9 STORE_FAST               0 (b)\n",
        "\n",
        "  3          12 LOAD_GLOBAL              0 (Z)\n",
        "             15 LOAD_CONST               2 (2)\n",
        "             18 CALL_FUNCTION            1 (1 positional, 0 keyword pair)\n",
        "             21 STORE_FAST               1 (c)\n",
        "\n",
        "  4          24 LOAD_GLOBAL              0 (Z)\n",
        "             27 LOAD_CONST               3 (4)\n",
        "             30 CALL_FUNCTION            1 (1 positional, 0 keyword pair)\n",
        "             33 STORE_FAST               2 (d)\n",
        "\n",
        "  5          36 LOAD_FAST                0 (b)\n",
        "             39 LOAD_FAST                1 (c)\n",
        "             42 BINARY_ADD\n",
        "             43 LOAD_FAST                2 (d)\n",
        "             46 BINARY_MULTIPLY\n",
        "             47 RETURN_VALUE\n"
       ]
      }
     ],
     "prompt_number": 106
    },
    {
     "cell_type": "markdown",
     "metadata": {},
     "source": [
      "#Test 14 Naive sum of range vs list comprehension and sum operator"
     ]
    },
    {
     "cell_type": "code",
     "collapsed": false,
     "input": [
      "def a():\n",
      "    b = 0\n",
      "    for i in range(500):\n",
      "        b += i\n",
      "    return b\n",
      "\n",
      "print(timeit(a, number=1000000))\n",
      "dis(a)"
     ],
     "language": "python",
     "metadata": {},
     "outputs": [
      {
       "output_type": "stream",
       "stream": "stdout",
       "text": [
        "38.410398976999204\n",
        "  2           0 LOAD_CONST               1 (0)\n",
        "              3 STORE_FAST               0 (b)\n",
        "\n",
        "  3           6 SETUP_LOOP              30 (to 39)\n",
        "              9 LOAD_GLOBAL              0 (range)\n",
        "             12 LOAD_CONST               2 (500)\n",
        "             15 CALL_FUNCTION            1 (1 positional, 0 keyword pair)\n",
        "             18 GET_ITER\n",
        "        >>   19 FOR_ITER                16 (to 38)\n",
        "             22 STORE_FAST               1 (i)\n",
        "\n",
        "  4          25 LOAD_FAST                0 (b)\n",
        "             28 LOAD_FAST                1 (i)\n",
        "             31 INPLACE_ADD\n",
        "             32 STORE_FAST               0 (b)\n",
        "             35 JUMP_ABSOLUTE           19\n",
        "        >>   38 POP_BLOCK\n",
        "\n",
        "  5     >>   39 LOAD_FAST                0 (b)\n",
        "             42 RETURN_VALUE\n"
       ]
      }
     ],
     "prompt_number": 145
    },
    {
     "cell_type": "code",
     "collapsed": false,
     "input": [
      "def a():\n",
      "    return sum(i for i in range(500))\n",
      "\n",
      "print(timeit(a, number=1000000))\n",
      "dis(a)"
     ],
     "language": "python",
     "metadata": {},
     "outputs": [
      {
       "output_type": "stream",
       "stream": "stdout",
       "text": [
        "37.32508561499981\n",
        "  2           0 LOAD_GLOBAL              0 (sum)\n",
        "              3 LOAD_CONST               1 (<code object <genexpr> at 0xb655dc00, file \"<ipython-input-146-efcc5e637f5a>\", line 2>)\n",
        "              6 LOAD_CONST               2 ('a.<locals>.<genexpr>')\n",
        "              9 MAKE_FUNCTION            0\n",
        "             12 LOAD_GLOBAL              1 (range)\n",
        "             15 LOAD_CONST               3 (500)\n",
        "             18 CALL_FUNCTION            1 (1 positional, 0 keyword pair)\n",
        "             21 GET_ITER\n",
        "             22 CALL_FUNCTION            1 (1 positional, 0 keyword pair)\n",
        "             25 CALL_FUNCTION            1 (1 positional, 0 keyword pair)\n",
        "             28 RETURN_VALUE\n"
       ]
      }
     ],
     "prompt_number": 146
    },
    {
     "cell_type": "markdown",
     "metadata": {},
     "source": [
      "# Test 15 Naive list creation vs list comprehension"
     ]
    },
    {
     "cell_type": "code",
     "collapsed": false,
     "input": [
      "def a():\n",
      "    return [i for i in range(1000)]\n",
      "\n",
      "print(timeit(a, number=1000000))\n",
      "dis(a)"
     ],
     "language": "python",
     "metadata": {},
     "outputs": [
      {
       "output_type": "stream",
       "stream": "stdout",
       "text": [
        "50.22347080700001\n",
        "  2           0 LOAD_CONST               1 (<code object <listcomp> at 0xb655dbb0, file \"<ipython-input-109-e9b6ee577d7c>\", line 2>)\n",
        "              3 LOAD_CONST               2 ('a.<locals>.<listcomp>')\n",
        "              6 MAKE_FUNCTION            0\n",
        "              9 LOAD_GLOBAL              0 (range)\n",
        "             12 LOAD_CONST               3 (1000)\n",
        "             15 CALL_FUNCTION            1 (1 positional, 0 keyword pair)\n",
        "             18 GET_ITER\n",
        "             19 CALL_FUNCTION            1 (1 positional, 0 keyword pair)\n",
        "             22 RETURN_VALUE\n"
       ]
      }
     ],
     "prompt_number": 109
    },
    {
     "cell_type": "code",
     "collapsed": false,
     "input": [
      "def a():\n",
      "    l = []\n",
      "    for i in range(1000):\n",
      "        l.append(i)\n",
      "    return l\n",
      "\n",
      "print(timeit(a, number=1000000))\n",
      "dis(a)"
     ],
     "language": "python",
     "metadata": {},
     "outputs": [
      {
       "output_type": "stream",
       "stream": "stdout",
       "text": [
        "103.6970577080001\n",
        "  2           0 BUILD_LIST               0\n",
        "              3 STORE_FAST               0 (l)\n",
        "\n",
        "  3           6 SETUP_LOOP              33 (to 42)\n",
        "              9 LOAD_GLOBAL              0 (range)\n",
        "             12 LOAD_CONST               1 (1000)\n",
        "             15 CALL_FUNCTION            1 (1 positional, 0 keyword pair)\n",
        "             18 GET_ITER\n",
        "        >>   19 FOR_ITER                19 (to 41)\n",
        "             22 STORE_FAST               1 (i)\n",
        "\n",
        "  4          25 LOAD_FAST                0 (l)\n",
        "             28 LOAD_ATTR                1 (append)\n",
        "             31 LOAD_FAST                1 (i)\n",
        "             34 CALL_FUNCTION            1 (1 positional, 0 keyword pair)\n",
        "             37 POP_TOP\n",
        "             38 JUMP_ABSOLUTE           19\n",
        "        >>   41 POP_BLOCK\n",
        "\n",
        "  5     >>   42 LOAD_FAST                0 (l)\n",
        "             45 RETURN_VALUE\n"
       ]
      }
     ],
     "prompt_number": 110
    },
    {
     "cell_type": "markdown",
     "metadata": {},
     "source": [
      "# Test 16 Dictionary tests"
     ]
    },
    {
     "cell_type": "code",
     "collapsed": false,
     "input": [
      "def a():\n",
      "    return {str(i): i for i in range(100)}\n",
      "\n",
      "print(timeit(a, number=1000000))\n",
      "dis(a)"
     ],
     "language": "python",
     "metadata": {},
     "outputs": [
      {
       "output_type": "stream",
       "stream": "stdout",
       "text": [
        "44.28032915499989\n",
        "  2           0 LOAD_CONST               1 (<code object <dictcomp> at 0xb655dbb0, file \"<ipython-input-111-5f1db3b00fc9>\", line 2>)\n",
        "              3 LOAD_CONST               2 ('a.<locals>.<dictcomp>')\n",
        "              6 MAKE_FUNCTION            0\n",
        "              9 LOAD_GLOBAL              0 (range)\n",
        "             12 LOAD_CONST               3 (100)\n",
        "             15 CALL_FUNCTION            1 (1 positional, 0 keyword pair)\n",
        "             18 GET_ITER\n",
        "             19 CALL_FUNCTION            1 (1 positional, 0 keyword pair)\n",
        "             22 RETURN_VALUE\n"
       ]
      }
     ],
     "prompt_number": 111
    },
    {
     "cell_type": "code",
     "collapsed": false,
     "input": [
      "def a():\n",
      "    d = {}\n",
      "    for i in range(100):\n",
      "        d[str(i)] = i*2\n",
      "    return d\n",
      "\n",
      "print(timeit(a, number=1000000))\n",
      "dis(a)"
     ],
     "language": "python",
     "metadata": {},
     "outputs": [
      {
       "output_type": "stream",
       "stream": "stdout",
       "text": [
        "47.89588354899979\n",
        "  2           0 BUILD_MAP                0\n",
        "              3 STORE_FAST               0 (d)\n",
        "\n",
        "  3           6 SETUP_LOOP              40 (to 49)\n",
        "              9 LOAD_GLOBAL              0 (range)\n",
        "             12 LOAD_CONST               1 (100)\n",
        "             15 CALL_FUNCTION            1 (1 positional, 0 keyword pair)\n",
        "             18 GET_ITER\n",
        "        >>   19 FOR_ITER                26 (to 48)\n",
        "             22 STORE_FAST               1 (i)\n",
        "\n",
        "  4          25 LOAD_FAST                1 (i)\n",
        "             28 LOAD_CONST               2 (2)\n",
        "             31 BINARY_MULTIPLY\n",
        "             32 LOAD_FAST                0 (d)\n",
        "             35 LOAD_GLOBAL              1 (str)\n",
        "             38 LOAD_FAST                1 (i)\n",
        "             41 CALL_FUNCTION            1 (1 positional, 0 keyword pair)\n",
        "             44 STORE_SUBSCR\n",
        "             45 JUMP_ABSOLUTE           19\n",
        "        >>   48 POP_BLOCK\n",
        "\n",
        "  5     >>   49 LOAD_FAST                0 (d)\n",
        "             52 RETURN_VALUE\n"
       ]
      }
     ],
     "prompt_number": 112
    },
    {
     "cell_type": "code",
     "collapsed": false,
     "input": [
      "def a():\n",
      "    d = {}\n",
      "    for i in range(100):\n",
      "        d.update({str(i): i*2})\n",
      "    return d\n",
      "\n",
      "print(timeit(a, number=1000000))\n",
      "dis(a)"
     ],
     "language": "python",
     "metadata": {},
     "outputs": [
      {
       "output_type": "stream",
       "stream": "stdout",
       "text": [
        "89.20856367500028\n",
        "  2           0 BUILD_MAP                0\n",
        "              3 STORE_FAST               0 (d)\n",
        "\n",
        "  3           6 SETUP_LOOP              50 (to 59)\n",
        "              9 LOAD_GLOBAL              0 (range)\n",
        "             12 LOAD_CONST               1 (100)\n",
        "             15 CALL_FUNCTION            1 (1 positional, 0 keyword pair)\n",
        "             18 GET_ITER\n",
        "        >>   19 FOR_ITER                36 (to 58)\n",
        "             22 STORE_FAST               1 (i)\n",
        "\n",
        "  4          25 LOAD_FAST                0 (d)\n",
        "             28 LOAD_ATTR                1 (update)\n",
        "             31 BUILD_MAP                1\n",
        "             34 LOAD_FAST                1 (i)\n",
        "             37 LOAD_CONST               2 (2)\n",
        "             40 BINARY_MULTIPLY\n",
        "             41 LOAD_GLOBAL              2 (str)\n",
        "             44 LOAD_FAST                1 (i)\n",
        "             47 CALL_FUNCTION            1 (1 positional, 0 keyword pair)\n",
        "             50 STORE_MAP\n",
        "             51 CALL_FUNCTION            1 (1 positional, 0 keyword pair)\n",
        "             54 POP_TOP\n",
        "             55 JUMP_ABSOLUTE           19\n",
        "        >>   58 POP_BLOCK\n",
        "\n",
        "  5     >>   59 LOAD_FAST                0 (d)\n",
        "             62 RETURN_VALUE\n"
       ]
      }
     ],
     "prompt_number": 113
    },
    {
     "cell_type": "markdown",
     "metadata": {},
     "source": [
      "#Test 16.1 Dictionary with list as value."
     ]
    },
    {
     "cell_type": "code",
     "collapsed": false,
     "input": [
      "def a():\n",
      "    d = {}\n",
      "    for i in range(100):\n",
      "        d.setdefault(str(i), []).append(i*2)\n",
      "    return d\n",
      "\n",
      "print(timeit(a, number=1000000))\n",
      "dis(a)"
     ],
     "language": "python",
     "metadata": {},
     "outputs": [
      {
       "output_type": "stream",
       "stream": "stdout",
       "text": [
        "85.01320587100008\n",
        "  2           0 BUILD_MAP                0\n",
        "              3 STORE_FAST               0 (d)\n",
        "\n",
        "  3           6 SETUP_LOOP              55 (to 64)\n",
        "              9 LOAD_GLOBAL              0 (range)\n",
        "             12 LOAD_CONST               1 (100)\n",
        "             15 CALL_FUNCTION            1 (1 positional, 0 keyword pair)\n",
        "             18 GET_ITER\n",
        "        >>   19 FOR_ITER                41 (to 63)\n",
        "             22 STORE_FAST               1 (i)\n",
        "\n",
        "  4          25 LOAD_FAST                0 (d)\n",
        "             28 LOAD_ATTR                1 (setdefault)\n",
        "             31 LOAD_GLOBAL              2 (str)\n",
        "             34 LOAD_FAST                1 (i)\n",
        "             37 CALL_FUNCTION            1 (1 positional, 0 keyword pair)\n",
        "             40 BUILD_LIST               0\n",
        "             43 CALL_FUNCTION            2 (2 positional, 0 keyword pair)\n",
        "             46 LOAD_ATTR                3 (append)\n",
        "             49 LOAD_FAST                1 (i)\n",
        "             52 LOAD_CONST               2 (2)\n",
        "             55 BINARY_MULTIPLY\n",
        "             56 CALL_FUNCTION            1 (1 positional, 0 keyword pair)\n",
        "             59 POP_TOP\n",
        "             60 JUMP_ABSOLUTE           19\n",
        "        >>   63 POP_BLOCK\n",
        "\n",
        "  5     >>   64 LOAD_FAST                0 (d)\n",
        "             67 RETURN_VALUE\n"
       ]
      }
     ],
     "prompt_number": 114
    },
    {
     "cell_type": "code",
     "collapsed": false,
     "input": [
      "def a():\n",
      "    from collections import defaultdict\n",
      "    d = defaultdict(list)\n",
      "    for i in range(100):\n",
      "        d[str(i)].append(i*2)\n",
      "    return d\n",
      "\n",
      "print(timeit(a, number=1000000))\n",
      "dis(a)"
     ],
     "language": "python",
     "metadata": {},
     "outputs": [
      {
       "output_type": "stream",
       "stream": "stdout",
       "text": [
        "100.01945932099989\n",
        "  2           0 LOAD_CONST               1 (0)\n",
        "              3 LOAD_CONST               2 (('defaultdict',))\n",
        "              6 IMPORT_NAME              0 (collections)\n",
        "              9 IMPORT_FROM              1 (defaultdict)\n",
        "             12 STORE_FAST               0 (defaultdict)\n",
        "             15 POP_TOP\n",
        "\n",
        "  3          16 LOAD_FAST                0 (defaultdict)\n",
        "             19 LOAD_GLOBAL              2 (list)\n",
        "             22 CALL_FUNCTION            1 (1 positional, 0 keyword pair)\n",
        "             25 STORE_FAST               1 (d)\n",
        "\n",
        "  4          28 SETUP_LOOP              47 (to 78)\n",
        "             31 LOAD_GLOBAL              3 (range)\n",
        "             34 LOAD_CONST               3 (100)\n",
        "             37 CALL_FUNCTION            1 (1 positional, 0 keyword pair)\n",
        "             40 GET_ITER\n",
        "        >>   41 FOR_ITER                33 (to 77)\n",
        "             44 STORE_FAST               2 (i)\n",
        "\n",
        "  5          47 LOAD_FAST                1 (d)\n",
        "             50 LOAD_GLOBAL              4 (str)\n",
        "             53 LOAD_FAST                2 (i)\n",
        "             56 CALL_FUNCTION            1 (1 positional, 0 keyword pair)\n",
        "             59 BINARY_SUBSCR\n",
        "             60 LOAD_ATTR                5 (append)\n",
        "             63 LOAD_FAST                2 (i)\n",
        "             66 LOAD_CONST               4 (2)\n",
        "             69 BINARY_MULTIPLY\n",
        "             70 CALL_FUNCTION            1 (1 positional, 0 keyword pair)\n",
        "             73 POP_TOP\n",
        "             74 JUMP_ABSOLUTE           41\n",
        "        >>   77 POP_BLOCK\n",
        "\n",
        "  6     >>   78 LOAD_FAST                1 (d)\n",
        "             81 RETURN_VALUE\n"
       ]
      }
     ],
     "prompt_number": 115
    },
    {
     "cell_type": "markdown",
     "metadata": {},
     "source": [
      "#Test 16.2 Calc word frequency with dict"
     ]
    },
    {
     "cell_type": "code",
     "collapsed": false,
     "input": [
      "def a():\n",
      "    freq = {}\n",
      "    for char in 'Hello world from python notebook':\n",
      "        freq[char] = freq[char] + 1 if char in freq else 1\n",
      "    return freq\n",
      "\n",
      "print(timeit(a, number=1000000))\n",
      "dis(a)"
     ],
     "language": "python",
     "metadata": {},
     "outputs": [
      {
       "output_type": "stream",
       "stream": "stdout",
       "text": [
        "5.155478710999887\n",
        "  2           0 BUILD_MAP                0\n",
        "              3 STORE_FAST               0 (freq)\n",
        "\n",
        "  3           6 SETUP_LOOP              50 (to 59)\n",
        "              9 LOAD_CONST               1 ('Hello world from python notebook')\n",
        "             12 GET_ITER\n",
        "        >>   13 FOR_ITER                42 (to 58)\n",
        "             16 STORE_FAST               1 (char)\n",
        "\n",
        "  4          19 LOAD_FAST                1 (char)\n",
        "             22 LOAD_FAST                0 (freq)\n",
        "             25 COMPARE_OP               6 (in)\n",
        "             28 POP_JUMP_IF_FALSE       45\n",
        "             31 LOAD_FAST                0 (freq)\n",
        "             34 LOAD_FAST                1 (char)\n",
        "             37 BINARY_SUBSCR\n",
        "             38 LOAD_CONST               2 (1)\n",
        "             41 BINARY_ADD\n",
        "             42 JUMP_FORWARD             3 (to 48)\n",
        "        >>   45 LOAD_CONST               2 (1)\n",
        "        >>   48 LOAD_FAST                0 (freq)\n",
        "             51 LOAD_FAST                1 (char)\n",
        "             54 STORE_SUBSCR\n",
        "             55 JUMP_ABSOLUTE           13\n",
        "        >>   58 POP_BLOCK\n",
        "\n",
        "  5     >>   59 LOAD_FAST                0 (freq)\n",
        "             62 RETURN_VALUE\n"
       ]
      }
     ],
     "prompt_number": 147
    },
    {
     "cell_type": "code",
     "collapsed": false,
     "input": [
      "def a():\n",
      "    freq = {}\n",
      "    for char in 'Hello world from python notebook':\n",
      "        freq[char] = freq.get(char, 0) + 1\n",
      "    return freq\n",
      "\n",
      "print(timeit(a, number=1000000))\n",
      "dis(a)"
     ],
     "language": "python",
     "metadata": {},
     "outputs": [
      {
       "output_type": "stream",
       "stream": "stdout",
       "text": [
        "7.797628594998969\n",
        "  2           0 BUILD_MAP                0\n",
        "              3 STORE_FAST               0 (freq)\n",
        "\n",
        "  3           6 SETUP_LOOP              40 (to 49)\n",
        "              9 LOAD_CONST               1 ('Hello world from python notebook')\n",
        "             12 GET_ITER\n",
        "        >>   13 FOR_ITER                32 (to 48)\n",
        "             16 STORE_FAST               1 (char)\n",
        "\n",
        "  4          19 LOAD_FAST                0 (freq)\n",
        "             22 LOAD_ATTR                0 (get)\n",
        "             25 LOAD_FAST                1 (char)\n",
        "             28 LOAD_CONST               2 (0)\n",
        "             31 CALL_FUNCTION            2 (2 positional, 0 keyword pair)\n",
        "             34 LOAD_CONST               3 (1)\n",
        "             37 BINARY_ADD\n",
        "             38 LOAD_FAST                0 (freq)\n",
        "             41 LOAD_FAST                1 (char)\n",
        "             44 STORE_SUBSCR\n",
        "             45 JUMP_ABSOLUTE           13\n",
        "        >>   48 POP_BLOCK\n",
        "\n",
        "  5     >>   49 LOAD_FAST                0 (freq)\n",
        "             52 RETURN_VALUE\n"
       ]
      }
     ],
     "prompt_number": 158
    },
    {
     "cell_type": "code",
     "collapsed": false,
     "input": [
      "def a():\n",
      "    freq = {}\n",
      "    for char in 'Hello world from python notebook':\n",
      "        if char in freq:\n",
      "            freq[char] = freq[char] + 1\n",
      "        else:\n",
      "            freq[char] = 1\n",
      "    return freq\n",
      "\n",
      "print(timeit(a, number=1000000))\n",
      "dis(a)"
     ],
     "language": "python",
     "metadata": {},
     "outputs": [
      {
       "output_type": "stream",
       "stream": "stdout",
       "text": [
        "5.109063868998419\n",
        "  2           0 BUILD_MAP                0\n",
        "              3 STORE_FAST               0 (freq)\n",
        "\n",
        "  3           6 SETUP_LOOP              57 (to 66)\n",
        "              9 LOAD_CONST               1 ('Hello world from python notebook')\n",
        "             12 GET_ITER\n",
        "        >>   13 FOR_ITER                49 (to 65)\n",
        "             16 STORE_FAST               1 (char)\n",
        "\n",
        "  4          19 LOAD_FAST                1 (char)\n",
        "             22 LOAD_FAST                0 (freq)\n",
        "             25 COMPARE_OP               6 (in)\n",
        "             28 POP_JUMP_IF_FALSE       52\n",
        "\n",
        "  5          31 LOAD_FAST                0 (freq)\n",
        "             34 LOAD_FAST                1 (char)\n",
        "             37 BINARY_SUBSCR\n",
        "             38 LOAD_CONST               2 (1)\n",
        "             41 BINARY_ADD\n",
        "             42 LOAD_FAST                0 (freq)\n",
        "             45 LOAD_FAST                1 (char)\n",
        "             48 STORE_SUBSCR\n",
        "             49 JUMP_ABSOLUTE           13\n",
        "\n",
        "  7     >>   52 LOAD_CONST               2 (1)\n",
        "             55 LOAD_FAST                0 (freq)\n",
        "             58 LOAD_FAST                1 (char)\n",
        "             61 STORE_SUBSCR\n",
        "             62 JUMP_ABSOLUTE           13\n",
        "        >>   65 POP_BLOCK\n",
        "\n",
        "  8     >>   66 LOAD_FAST                0 (freq)\n",
        "             69 RETURN_VALUE\n"
       ]
      }
     ],
     "prompt_number": 149
    },
    {
     "cell_type": "code",
     "collapsed": false,
     "input": [
      "def a():\n",
      "    freq = {}\n",
      "    for char in 'Hello world from python notebook':\n",
      "        try:\n",
      "            freq[char] = freq[char] + 1\n",
      "        except KeyError:\n",
      "            freq[char] = 1\n",
      "    return freq\n",
      "\n",
      "print(timeit(a, number=1000000))\n",
      "dis(a)\n"
     ],
     "language": "python",
     "metadata": {},
     "outputs": [
      {
       "output_type": "stream",
       "stream": "stdout",
       "text": [
        "9.872455778000585\n",
        "  2           0 BUILD_MAP                0\n",
        "              3 STORE_FAST               0 (freq)\n",
        "\n",
        "  3           6 SETUP_LOOP              67 (to 76)\n",
        "              9 LOAD_CONST               1 ('Hello world from python notebook')\n",
        "             12 GET_ITER\n",
        "        >>   13 FOR_ITER                59 (to 75)\n",
        "             16 STORE_FAST               1 (char)\n",
        "\n",
        "  4          19 SETUP_EXCEPT            22 (to 44)\n",
        "\n",
        "  5          22 LOAD_FAST                0 (freq)\n",
        "             25 LOAD_FAST                1 (char)\n",
        "             28 BINARY_SUBSCR\n",
        "             29 LOAD_CONST               2 (1)\n",
        "             32 BINARY_ADD\n",
        "             33 LOAD_FAST                0 (freq)\n",
        "             36 LOAD_FAST                1 (char)\n",
        "             39 STORE_SUBSCR\n",
        "             40 POP_BLOCK\n",
        "             41 JUMP_ABSOLUTE           13\n",
        "\n",
        "  6     >>   44 DUP_TOP\n",
        "             45 LOAD_GLOBAL              0 (KeyError)\n",
        "             48 COMPARE_OP              10 (exception match)\n",
        "             51 POP_JUMP_IF_FALSE       71\n",
        "             54 POP_TOP\n",
        "             55 POP_TOP\n",
        "             56 POP_TOP\n",
        "\n",
        "  7          57 LOAD_CONST               2 (1)\n",
        "             60 LOAD_FAST                0 (freq)\n",
        "             63 LOAD_FAST                1 (char)\n",
        "             66 STORE_SUBSCR\n",
        "             67 POP_EXCEPT\n",
        "             68 JUMP_ABSOLUTE           13\n",
        "        >>   71 END_FINALLY\n",
        "             72 JUMP_ABSOLUTE           13\n",
        "        >>   75 POP_BLOCK\n",
        "\n",
        "  8     >>   76 LOAD_FAST                0 (freq)\n",
        "             79 RETURN_VALUE\n"
       ]
      }
     ],
     "prompt_number": 153
    },
    {
     "cell_type": "code",
     "collapsed": false,
     "input": [
      "def a():\n",
      "    from collections import defaultdict\n",
      "    freq = defaultdict(int)\n",
      "    for char in 'Hello world from python notebook':\n",
      "        freq[char] += 1\n",
      "    return freq\n",
      "\n",
      "print(timeit(a, number=1000000))\n",
      "dis(a)"
     ],
     "language": "python",
     "metadata": {},
     "outputs": [
      {
       "output_type": "stream",
       "stream": "stdout",
       "text": [
        "11.035399753998718\n",
        "  2           0 LOAD_CONST               1 (0)\n",
        "              3 LOAD_CONST               2 (('defaultdict',))\n",
        "              6 IMPORT_NAME              0 (collections)\n",
        "              9 IMPORT_FROM              1 (defaultdict)\n",
        "             12 STORE_FAST               0 (defaultdict)\n",
        "             15 POP_TOP\n",
        "\n",
        "  3          16 LOAD_FAST                0 (defaultdict)\n",
        "             19 LOAD_GLOBAL              2 (int)\n",
        "             22 CALL_FUNCTION            1 (1 positional, 0 keyword pair)\n",
        "             25 STORE_FAST               1 (freq)\n",
        "\n",
        "  4          28 SETUP_LOOP              28 (to 59)\n",
        "             31 LOAD_CONST               3 ('Hello world from python notebook')\n",
        "             34 GET_ITER\n",
        "        >>   35 FOR_ITER                20 (to 58)\n",
        "             38 STORE_FAST               2 (char)\n",
        "\n",
        "  5          41 LOAD_FAST                1 (freq)\n",
        "             44 LOAD_FAST                2 (char)\n",
        "             47 DUP_TOP_TWO\n",
        "             48 BINARY_SUBSCR\n",
        "             49 LOAD_CONST               4 (1)\n",
        "             52 INPLACE_ADD\n",
        "             53 ROT_THREE\n",
        "             54 STORE_SUBSCR\n",
        "             55 JUMP_ABSOLUTE           35\n",
        "        >>   58 POP_BLOCK\n",
        "\n",
        "  6     >>   59 LOAD_FAST                1 (freq)\n",
        "             62 RETURN_VALUE\n"
       ]
      }
     ],
     "prompt_number": 151
    },
    {
     "cell_type": "markdown",
     "metadata": {},
     "source": [
      "#Test 17 'in' test versys == (eq)"
     ]
    },
    {
     "cell_type": "code",
     "collapsed": false,
     "input": [
      "def a():\n",
      "    d = 1\n",
      "    if d == 1 or d == 2 or d == 3:\n",
      "        return True\n",
      "    return False\n",
      "\n",
      "print(timeit(a, number=1000000))\n",
      "dis(a)"
     ],
     "language": "python",
     "metadata": {},
     "outputs": [
      {
       "output_type": "stream",
       "stream": "stdout",
       "text": [
        "0.14169315800063487\n",
        "  2           0 LOAD_CONST               1 (1)\n",
        "              3 STORE_FAST               0 (d)\n",
        "\n",
        "  3           6 LOAD_FAST                0 (d)\n",
        "              9 LOAD_CONST               1 (1)\n",
        "             12 COMPARE_OP               2 (==)\n",
        "             15 POP_JUMP_IF_TRUE        42\n",
        "             18 LOAD_FAST                0 (d)\n",
        "             21 LOAD_CONST               2 (2)\n",
        "             24 COMPARE_OP               2 (==)\n",
        "             27 POP_JUMP_IF_TRUE        42\n",
        "             30 LOAD_FAST                0 (d)\n",
        "             33 LOAD_CONST               3 (3)\n",
        "             36 COMPARE_OP               2 (==)\n",
        "             39 POP_JUMP_IF_FALSE       46\n",
        "\n",
        "  4     >>   42 LOAD_CONST               4 (True)\n",
        "             45 RETURN_VALUE\n",
        "\n",
        "  5     >>   46 LOAD_CONST               5 (False)\n",
        "             49 RETURN_VALUE\n"
       ]
      }
     ],
     "prompt_number": 120
    },
    {
     "cell_type": "code",
     "collapsed": false,
     "input": [
      "def a():\n",
      "    d = 1\n",
      "    if d in [1, 2, 3]:\n",
      "        return True\n",
      "    return False\n",
      "\n",
      "print(timeit(a, number=1000000))\n",
      "dis(a)"
     ],
     "language": "python",
     "metadata": {},
     "outputs": [
      {
       "output_type": "stream",
       "stream": "stdout",
       "text": [
        "0.1314323560000048\n",
        "  2           0 LOAD_CONST               1 (1)\n",
        "              3 STORE_FAST               0 (d)\n",
        "\n",
        "  3           6 LOAD_FAST                0 (d)\n",
        "              9 LOAD_CONST               6 ((1, 2, 3))\n",
        "             12 COMPARE_OP               6 (in)\n",
        "             15 POP_JUMP_IF_FALSE       22\n",
        "\n",
        "  4          18 LOAD_CONST               4 (True)\n",
        "             21 RETURN_VALUE\n",
        "\n",
        "  5     >>   22 LOAD_CONST               5 (False)\n",
        "             25 RETURN_VALUE\n"
       ]
      }
     ],
     "prompt_number": 121
    },
    {
     "cell_type": "markdown",
     "metadata": {},
     "source": [
      "#Test 18 Unpack sequence versys index getter"
     ]
    },
    {
     "cell_type": "code",
     "collapsed": false,
     "input": [
      "def a():\n",
      "    d = [[1,2,3], [4,5,6], [7,8,9]]\n",
      "    e = {k:v for x, k, v in d}\n",
      "    return e\n",
      "\n",
      "print(timeit(a, number=1000000))\n",
      "dis(a)"
     ],
     "language": "python",
     "metadata": {},
     "outputs": [
      {
       "output_type": "stream",
       "stream": "stdout",
       "text": [
        "1.2919789590005166\n",
        "  2           0 LOAD_CONST               1 (1)\n",
        "              3 LOAD_CONST               2 (2)\n",
        "              6 LOAD_CONST               3 (3)\n",
        "              9 BUILD_LIST               3\n",
        "             12 LOAD_CONST               4 (4)\n",
        "             15 LOAD_CONST               5 (5)\n",
        "             18 LOAD_CONST               6 (6)\n",
        "             21 BUILD_LIST               3\n",
        "             24 LOAD_CONST               7 (7)\n",
        "             27 LOAD_CONST               8 (8)\n",
        "             30 LOAD_CONST               9 (9)\n",
        "             33 BUILD_LIST               3\n",
        "             36 BUILD_LIST               3\n",
        "             39 STORE_FAST               0 (d)\n",
        "\n",
        "  3          42 LOAD_CONST              10 (<code object <dictcomp> at 0xb655dc00, file \"<ipython-input-122-37d4a171219f>\", line 3>)\n",
        "             45 LOAD_CONST              11 ('a.<locals>.<dictcomp>')\n",
        "             48 MAKE_FUNCTION            0\n",
        "             51 LOAD_FAST                0 (d)\n",
        "             54 GET_ITER\n",
        "             55 CALL_FUNCTION            1 (1 positional, 0 keyword pair)\n",
        "             58 STORE_FAST               1 (e)\n",
        "\n",
        "  4          61 LOAD_FAST                1 (e)\n",
        "             64 RETURN_VALUE\n"
       ]
      }
     ],
     "prompt_number": 122
    },
    {
     "cell_type": "code",
     "collapsed": false,
     "input": [
      "def a():\n",
      "    d = [[1,2,3], [4,5,6], [7,8,9]]\n",
      "    e = {x[1]:x[2] for x in d}\n",
      "    return e\n",
      "\n",
      "print(timeit(a, number=1000000))\n",
      "dis(a)"
     ],
     "language": "python",
     "metadata": {},
     "outputs": [
      {
       "output_type": "stream",
       "stream": "stdout",
       "text": [
        "1.405692440999701\n",
        "  2           0 LOAD_CONST               1 (1)\n",
        "              3 LOAD_CONST               2 (2)\n",
        "              6 LOAD_CONST               3 (3)\n",
        "              9 BUILD_LIST               3\n",
        "             12 LOAD_CONST               4 (4)\n",
        "             15 LOAD_CONST               5 (5)\n",
        "             18 LOAD_CONST               6 (6)\n",
        "             21 BUILD_LIST               3\n",
        "             24 LOAD_CONST               7 (7)\n",
        "             27 LOAD_CONST               8 (8)\n",
        "             30 LOAD_CONST               9 (9)\n",
        "             33 BUILD_LIST               3\n",
        "             36 BUILD_LIST               3\n",
        "             39 STORE_FAST               0 (d)\n",
        "\n",
        "  3          42 LOAD_CONST              10 (<code object <dictcomp> at 0xb6595c00, file \"<ipython-input-123-733f9cdc0e7f>\", line 3>)\n",
        "             45 LOAD_CONST              11 ('a.<locals>.<dictcomp>')\n",
        "             48 MAKE_FUNCTION            0\n",
        "             51 LOAD_FAST                0 (d)\n",
        "             54 GET_ITER\n",
        "             55 CALL_FUNCTION            1 (1 positional, 0 keyword pair)\n",
        "             58 STORE_FAST               1 (e)\n",
        "\n",
        "  4          61 LOAD_FAST                1 (e)\n",
        "             64 RETURN_VALUE\n"
       ]
      }
     ],
     "prompt_number": 123
    },
    {
     "cell_type": "markdown",
     "metadata": {},
     "source": [
      "# Test 19"
     ]
    },
    {
     "cell_type": "code",
     "collapsed": false,
     "input": [
      "def a():\n",
      "    b = 0\n",
      "    return not b\n",
      "\n",
      "print(timeit(a, number=1000000))\n",
      "dis(a)"
     ],
     "language": "python",
     "metadata": {},
     "outputs": [
      {
       "output_type": "stream",
       "stream": "stdout",
       "text": [
        "0.12042096999994101\n",
        "  2           0 LOAD_CONST               1 (0)\n",
        "              3 STORE_FAST               0 (b)\n",
        "\n",
        "  3           6 LOAD_FAST                0 (b)\n",
        "              9 UNARY_NOT\n",
        "             10 RETURN_VALUE\n"
       ]
      }
     ],
     "prompt_number": 124
    },
    {
     "cell_type": "code",
     "collapsed": false,
     "input": [
      "def a():\n",
      "    b = 1\n",
      "    return not b\n",
      "\n",
      "print(timeit(a, number=1000000))\n",
      "dis(a)"
     ],
     "language": "python",
     "metadata": {},
     "outputs": [
      {
       "output_type": "stream",
       "stream": "stdout",
       "text": [
        "0.12977774600039993\n",
        "  2           0 LOAD_CONST               1 (1)\n",
        "              3 STORE_FAST               0 (b)\n",
        "\n",
        "  3           6 LOAD_FAST                0 (b)\n",
        "              9 UNARY_NOT\n",
        "             10 RETURN_VALUE\n"
       ]
      }
     ],
     "prompt_number": 125
    },
    {
     "cell_type": "code",
     "collapsed": false,
     "input": [
      "def a():\n",
      "    b = 1\n",
      "    return False if b else True\n",
      "\n",
      "print(timeit(a, number=1000000))\n",
      "dis(a)"
     ],
     "language": "python",
     "metadata": {},
     "outputs": [
      {
       "output_type": "stream",
       "stream": "stdout",
       "text": [
        "0.12319199300054606\n",
        "  2           0 LOAD_CONST               1 (1)\n",
        "              3 STORE_FAST               0 (b)\n",
        "\n",
        "  3           6 LOAD_FAST                0 (b)\n",
        "              9 POP_JUMP_IF_FALSE       16\n",
        "             12 LOAD_CONST               2 (False)\n",
        "             15 RETURN_VALUE\n",
        "        >>   16 LOAD_CONST               3 (True)\n",
        "             19 RETURN_VALUE\n"
       ]
      }
     ],
     "prompt_number": 126
    },
    {
     "cell_type": "code",
     "collapsed": false,
     "input": [
      "def a():\n",
      "    b = 0\n",
      "    return False if b else True\n",
      "\n",
      "print(timeit(a, number=1000000))\n",
      "dis(a)"
     ],
     "language": "python",
     "metadata": {},
     "outputs": [
      {
       "output_type": "stream",
       "stream": "stdout",
       "text": [
        "0.12367250099941884\n",
        "  2           0 LOAD_CONST               1 (0)\n",
        "              3 STORE_FAST               0 (b)\n",
        "\n",
        "  3           6 LOAD_FAST                0 (b)\n",
        "              9 POP_JUMP_IF_FALSE       16\n",
        "             12 LOAD_CONST               2 (False)\n",
        "             15 RETURN_VALUE\n",
        "        >>   16 LOAD_CONST               3 (True)\n",
        "             19 RETURN_VALUE\n"
       ]
      }
     ],
     "prompt_number": 127
    },
    {
     "cell_type": "code",
     "collapsed": false,
     "input": [
      "def a():\n",
      "    b = 1\n",
      "    if b:\n",
      "        return False\n",
      "    else:\n",
      "        return True\n",
      "\n",
      "print(timeit(a, number=1000000))\n",
      "dis(a)"
     ],
     "language": "python",
     "metadata": {},
     "outputs": [
      {
       "output_type": "stream",
       "stream": "stdout",
       "text": [
        "0.12159143999997468\n",
        "  2           0 LOAD_CONST               1 (1)\n",
        "              3 STORE_FAST               0 (b)\n",
        "\n",
        "  3           6 LOAD_FAST                0 (b)\n",
        "              9 POP_JUMP_IF_FALSE       16\n",
        "\n",
        "  4          12 LOAD_CONST               2 (False)\n",
        "             15 RETURN_VALUE\n",
        "\n",
        "  6     >>   16 LOAD_CONST               3 (True)\n",
        "             19 RETURN_VALUE\n",
        "             20 LOAD_CONST               0 (None)\n",
        "             23 RETURN_VALUE\n"
       ]
      }
     ],
     "prompt_number": 128
    },
    {
     "cell_type": "code",
     "collapsed": false,
     "input": [
      "def a():\n",
      "    b = 0\n",
      "    if b:\n",
      "        return False\n",
      "    else:\n",
      "        return True\n",
      "\n",
      "print(timeit(a, number=1000000))\n",
      "dis(a)"
     ],
     "language": "python",
     "metadata": {},
     "outputs": [
      {
       "output_type": "stream",
       "stream": "stdout",
       "text": [
        "0.12362577699968824\n",
        "  2           0 LOAD_CONST               1 (0)\n",
        "              3 STORE_FAST               0 (b)\n",
        "\n",
        "  3           6 LOAD_FAST                0 (b)\n",
        "              9 POP_JUMP_IF_FALSE       16\n",
        "\n",
        "  4          12 LOAD_CONST               2 (False)\n",
        "             15 RETURN_VALUE\n",
        "\n",
        "  6     >>   16 LOAD_CONST               3 (True)\n",
        "             19 RETURN_VALUE\n",
        "             20 LOAD_CONST               0 (None)\n",
        "             23 RETURN_VALUE\n"
       ]
      }
     ],
     "prompt_number": 129
    },
    {
     "cell_type": "markdown",
     "metadata": {},
     "source": [
      "#Test 20"
     ]
    },
    {
     "cell_type": "code",
     "collapsed": false,
     "input": [
      "def k(x=1, y=1, z=-1):\n",
      "    return x * (y - 2 * z)"
     ],
     "language": "python",
     "metadata": {},
     "outputs": [],
     "prompt_number": 130
    },
    {
     "cell_type": "code",
     "collapsed": false,
     "input": [
      "def a():\n",
      "    return k(x=5, y = 3)\n",
      "\n",
      "print(timeit(a, number=1000000))\n",
      "dis(a)"
     ],
     "language": "python",
     "metadata": {},
     "outputs": [
      {
       "output_type": "stream",
       "stream": "stdout",
       "text": [
        "0.3374882379994233\n",
        "  2           0 LOAD_GLOBAL              0 (k)\n",
        "              3 LOAD_CONST               1 ('x')\n",
        "              6 LOAD_CONST               2 (5)\n",
        "              9 LOAD_CONST               3 ('y')\n",
        "             12 LOAD_CONST               4 (3)\n",
        "             15 CALL_FUNCTION          512 (0 positional, 2 keyword pair)\n",
        "             18 RETURN_VALUE\n"
       ]
      }
     ],
     "prompt_number": 131
    },
    {
     "cell_type": "code",
     "collapsed": false,
     "input": [
      "def a():\n",
      "    return k(**{'x':5, 'y': 3})\n",
      "\n",
      "print(timeit(a, number=1000000))\n",
      "dis(a)"
     ],
     "language": "python",
     "metadata": {},
     "outputs": [
      {
       "output_type": "stream",
       "stream": "stdout",
       "text": [
        "0.6815659310004776\n",
        "  2           0 LOAD_GLOBAL              0 (k)\n",
        "              3 BUILD_MAP                2\n",
        "              6 LOAD_CONST               1 (5)\n",
        "              9 LOAD_CONST               2 ('x')\n",
        "             12 STORE_MAP\n",
        "             13 LOAD_CONST               3 (3)\n",
        "             16 LOAD_CONST               4 ('y')\n",
        "             19 STORE_MAP\n",
        "             20 CALL_FUNCTION_KW         0 (0 positional, 0 keyword pair)\n",
        "             23 RETURN_VALUE\n"
       ]
      }
     ],
     "prompt_number": 132
    },
    {
     "cell_type": "markdown",
     "metadata": {},
     "source": [
      "#Test 21"
     ]
    },
    {
     "cell_type": "code",
     "collapsed": false,
     "input": [
      "def a(n=25):\n",
      "    b, c = 0, 1\n",
      "    for i in range(n):\n",
      "        x = b + c\n",
      "        b = c\n",
      "        c = x\n",
      "    return b\n",
      "\n",
      "print(timeit(a, number=1000000))\n",
      "dis(a)"
     ],
     "language": "python",
     "metadata": {},
     "outputs": [
      {
       "output_type": "stream",
       "stream": "stdout",
       "text": [
        "2.7060369199998604\n",
        "  2           0 LOAD_CONST               3 ((0, 1))\n",
        "              3 UNPACK_SEQUENCE          2\n",
        "              6 STORE_FAST               1 (b)\n",
        "              9 STORE_FAST               2 (c)\n",
        "\n",
        "  3          12 SETUP_LOOP              42 (to 57)\n",
        "             15 LOAD_GLOBAL              0 (range)\n",
        "             18 LOAD_FAST                0 (n)\n",
        "             21 CALL_FUNCTION            1 (1 positional, 0 keyword pair)\n",
        "             24 GET_ITER\n",
        "        >>   25 FOR_ITER                28 (to 56)\n",
        "             28 STORE_FAST               3 (i)\n",
        "\n",
        "  4          31 LOAD_FAST                1 (b)\n",
        "             34 LOAD_FAST                2 (c)\n",
        "             37 BINARY_ADD\n",
        "             38 STORE_FAST               4 (x)\n",
        "\n",
        "  5          41 LOAD_FAST                2 (c)\n",
        "             44 STORE_FAST               1 (b)\n",
        "\n",
        "  6          47 LOAD_FAST                4 (x)\n",
        "             50 STORE_FAST               2 (c)\n",
        "             53 JUMP_ABSOLUTE           25\n",
        "        >>   56 POP_BLOCK\n",
        "\n",
        "  7     >>   57 LOAD_FAST                1 (b)\n",
        "             60 RETURN_VALUE\n"
       ]
      }
     ],
     "prompt_number": 133
    },
    {
     "cell_type": "code",
     "collapsed": false,
     "input": [
      "def a(n=25):\n",
      "    b, c = 0, 1\n",
      "    for i in range(n):\n",
      "        b, c = c, b + c\n",
      "    return b\n",
      "\n",
      "print(timeit(a, number=1000000))\n",
      "dis(a)"
     ],
     "language": "python",
     "metadata": {},
     "outputs": [
      {
       "output_type": "stream",
       "stream": "stdout",
       "text": [
        "2.5019258390002506\n",
        "  2           0 LOAD_CONST               3 ((0, 1))\n",
        "              3 UNPACK_SEQUENCE          2\n",
        "              6 STORE_FAST               1 (b)\n",
        "              9 STORE_FAST               2 (c)\n",
        "\n",
        "  3          12 SETUP_LOOP              37 (to 52)\n",
        "             15 LOAD_GLOBAL              0 (range)\n",
        "             18 LOAD_FAST                0 (n)\n",
        "             21 CALL_FUNCTION            1 (1 positional, 0 keyword pair)\n",
        "             24 GET_ITER\n",
        "        >>   25 FOR_ITER                23 (to 51)\n",
        "             28 STORE_FAST               3 (i)\n",
        "\n",
        "  4          31 LOAD_FAST                2 (c)\n",
        "             34 LOAD_FAST                1 (b)\n",
        "             37 LOAD_FAST                2 (c)\n",
        "             40 BINARY_ADD\n",
        "             41 ROT_TWO\n",
        "             42 STORE_FAST               1 (b)\n",
        "             45 STORE_FAST               2 (c)\n",
        "             48 JUMP_ABSOLUTE           25\n",
        "        >>   51 POP_BLOCK\n",
        "\n",
        "  5     >>   52 LOAD_FAST                1 (b)\n",
        "             55 RETURN_VALUE\n"
       ]
      }
     ],
     "prompt_number": 134
    },
    {
     "cell_type": "markdown",
     "metadata": {},
     "source": [
      "#Test 22"
     ]
    },
    {
     "cell_type": "code",
     "collapsed": false,
     "input": [
      "def a(n=25):\n",
      "    x = y = z = w = k = 0\n",
      "    return x, y, z, w, k\n",
      "\n",
      "print(timeit(a, number=1000000))\n",
      "dis(a)"
     ],
     "language": "python",
     "metadata": {},
     "outputs": [
      {
       "output_type": "stream",
       "stream": "stdout",
       "text": [
        "0.22794323200014333\n",
        "  2           0 LOAD_CONST               1 (0)\n",
        "              3 DUP_TOP\n",
        "              4 STORE_FAST               1 (x)\n",
        "              7 DUP_TOP\n",
        "              8 STORE_FAST               2 (y)\n",
        "             11 DUP_TOP\n",
        "             12 STORE_FAST               3 (z)\n",
        "             15 DUP_TOP\n",
        "             16 STORE_FAST               4 (w)\n",
        "             19 STORE_FAST               5 (k)\n",
        "\n",
        "  3          22 LOAD_FAST                1 (x)\n",
        "             25 LOAD_FAST                2 (y)\n",
        "             28 LOAD_FAST                3 (z)\n",
        "             31 LOAD_FAST                4 (w)\n",
        "             34 LOAD_FAST                5 (k)\n",
        "             37 BUILD_TUPLE              5\n",
        "             40 RETURN_VALUE\n"
       ]
      }
     ],
     "prompt_number": 135
    },
    {
     "cell_type": "code",
     "collapsed": false,
     "input": [
      "def a(n=25):\n",
      "    x, y, z, w, k = 0, 0, 0, 0, 0\n",
      "    return x, y, z, w, k\n",
      "\n",
      "print(timeit(a, number=1000000))\n",
      "dis(a)"
     ],
     "language": "python",
     "metadata": {},
     "outputs": [
      {
       "output_type": "stream",
       "stream": "stdout",
       "text": [
        "0.23787696800081903\n",
        "  2           0 LOAD_CONST               2 ((0, 0, 0, 0, 0))\n",
        "              3 UNPACK_SEQUENCE          5\n",
        "              6 STORE_FAST               1 (x)\n",
        "              9 STORE_FAST               2 (y)\n",
        "             12 STORE_FAST               3 (z)\n",
        "             15 STORE_FAST               4 (w)\n",
        "             18 STORE_FAST               5 (k)\n",
        "\n",
        "  3          21 LOAD_FAST                1 (x)\n",
        "             24 LOAD_FAST                2 (y)\n",
        "             27 LOAD_FAST                3 (z)\n",
        "             30 LOAD_FAST                4 (w)\n",
        "             33 LOAD_FAST                5 (k)\n",
        "             36 BUILD_TUPLE              5\n",
        "             39 RETURN_VALUE\n"
       ]
      }
     ],
     "prompt_number": 136
    },
    {
     "cell_type": "markdown",
     "metadata": {},
     "source": [
      "# Test 23 args test"
     ]
    },
    {
     "cell_type": "code",
     "collapsed": false,
     "input": [
      "def a():\n",
      "    f = lambda *args: args\n",
      "    return f('a', 'b')\n",
      "\n",
      "print(timeit(a, number=1000000))\n",
      "dis(a)"
     ],
     "language": "python",
     "metadata": {},
     "outputs": [
      {
       "output_type": "stream",
       "stream": "stdout",
       "text": [
        "0.31784377100029815\n",
        "  2           0 LOAD_CONST               1 (<code object <lambda> at 0xb655db10, file \"<ipython-input-137-8f3c43cdef10>\", line 2>)\n",
        "              3 LOAD_CONST               2 ('a.<locals>.<lambda>')\n",
        "              6 MAKE_FUNCTION            0\n",
        "              9 STORE_FAST               0 (f)\n",
        "\n",
        "  3          12 LOAD_FAST                0 (f)\n",
        "             15 LOAD_CONST               3 ('a')\n",
        "             18 LOAD_CONST               4 ('b')\n",
        "             21 CALL_FUNCTION            2 (2 positional, 0 keyword pair)\n",
        "             24 RETURN_VALUE\n"
       ]
      }
     ],
     "prompt_number": 137
    },
    {
     "cell_type": "code",
     "collapsed": false,
     "input": [
      "def a():\n",
      "    f = lambda *args: args\n",
      "    return f(*('a', 'b'))\n",
      "\n",
      "print(timeit(a, number=1000000))\n",
      "dis(a)"
     ],
     "language": "python",
     "metadata": {},
     "outputs": [
      {
       "output_type": "stream",
       "stream": "stdout",
       "text": [
        "0.35231400600059715\n",
        "  2           0 LOAD_CONST               1 (<code object <lambda> at 0xb655d9d0, file \"<ipython-input-138-911d66e4c74a>\", line 2>)\n",
        "              3 LOAD_CONST               2 ('a.<locals>.<lambda>')\n",
        "              6 MAKE_FUNCTION            0\n",
        "              9 STORE_FAST               0 (f)\n",
        "\n",
        "  3          12 LOAD_FAST                0 (f)\n",
        "             15 LOAD_CONST               5 (('a', 'b'))\n",
        "             18 CALL_FUNCTION_VAR        0 (0 positional, 0 keyword pair)\n",
        "             21 RETURN_VALUE\n"
       ]
      }
     ],
     "prompt_number": 138
    },
    {
     "cell_type": "code",
     "collapsed": false,
     "input": [
      "def a():\n",
      "    f = lambda *args: args\n",
      "    return f(*'ab')\n",
      "\n",
      "print(timeit(a, number=1000000))\n",
      "dis(a)"
     ],
     "language": "python",
     "metadata": {},
     "outputs": [
      {
       "output_type": "stream",
       "stream": "stdout",
       "text": [
        "0.47936368099999527\n",
        "  2           0 LOAD_CONST               1 (<code object <lambda> at 0xb655db10, file \"<ipython-input-139-cde94fb0681c>\", line 2>)\n",
        "              3 LOAD_CONST               2 ('a.<locals>.<lambda>')\n",
        "              6 MAKE_FUNCTION            0\n",
        "              9 STORE_FAST               0 (f)\n",
        "\n",
        "  3          12 LOAD_FAST                0 (f)\n",
        "             15 LOAD_CONST               3 ('ab')\n",
        "             18 CALL_FUNCTION_VAR        0 (0 positional, 0 keyword pair)\n",
        "             21 RETURN_VALUE\n"
       ]
      }
     ],
     "prompt_number": 139
    },
    {
     "cell_type": "markdown",
     "metadata": {},
     "source": [
      "# Test 24"
     ]
    },
    {
     "cell_type": "code",
     "collapsed": false,
     "input": [
      "def a(int=int, str=str, range=range):\n",
      "    for i in range(500):\n",
      "        int(str(i))\n",
      "\n",
      "print(timeit(a, number=1000000))\n",
      "dis(a)"
     ],
     "language": "python",
     "metadata": {},
     "outputs": [
      {
       "output_type": "stream",
       "stream": "stdout",
       "text": [
        "212.15196919000027\n",
        "  2           0 SETUP_LOOP              36 (to 39)\n",
        "              3 LOAD_FAST                2 (range)\n",
        "              6 LOAD_CONST               1 (500)\n",
        "              9 CALL_FUNCTION            1 (1 positional, 0 keyword pair)\n",
        "             12 GET_ITER\n",
        "        >>   13 FOR_ITER                22 (to 38)\n",
        "             16 STORE_FAST               3 (i)\n",
        "\n",
        "  3          19 LOAD_FAST                0 (int)\n",
        "             22 LOAD_FAST                1 (str)\n",
        "             25 LOAD_FAST                3 (i)\n",
        "             28 CALL_FUNCTION            1 (1 positional, 0 keyword pair)\n",
        "             31 CALL_FUNCTION            1 (1 positional, 0 keyword pair)\n",
        "             34 POP_TOP\n",
        "             35 JUMP_ABSOLUTE           13\n",
        "        >>   38 POP_BLOCK\n",
        "        >>   39 LOAD_CONST               0 (None)\n",
        "             42 RETURN_VALUE\n"
       ]
      }
     ],
     "prompt_number": 140
    },
    {
     "cell_type": "code",
     "collapsed": false,
     "input": [
      "def a():\n",
      "    for i in range(500):\n",
      "        int(str(i))\n",
      "\n",
      "print(timeit(a, number=1000000))\n",
      "dis(a)"
     ],
     "language": "python",
     "metadata": {},
     "outputs": [
      {
       "output_type": "stream",
       "stream": "stdout",
       "text": [
        "238.22573946699958\n",
        "  2           0 SETUP_LOOP              36 (to 39)\n",
        "              3 LOAD_GLOBAL              0 (range)\n",
        "              6 LOAD_CONST               1 (500)\n",
        "              9 CALL_FUNCTION            1 (1 positional, 0 keyword pair)\n",
        "             12 GET_ITER\n",
        "        >>   13 FOR_ITER                22 (to 38)\n",
        "             16 STORE_FAST               0 (i)\n",
        "\n",
        "  3          19 LOAD_GLOBAL              1 (int)\n",
        "             22 LOAD_GLOBAL              2 (str)\n",
        "             25 LOAD_FAST                0 (i)\n",
        "             28 CALL_FUNCTION            1 (1 positional, 0 keyword pair)\n",
        "             31 CALL_FUNCTION            1 (1 positional, 0 keyword pair)\n",
        "             34 POP_TOP\n",
        "             35 JUMP_ABSOLUTE           13\n",
        "        >>   38 POP_BLOCK\n",
        "        >>   39 LOAD_CONST               0 (None)\n",
        "             42 RETURN_VALUE\n"
       ]
      }
     ],
     "prompt_number": 141
    },
    {
     "cell_type": "code",
     "collapsed": false,
     "input": [],
     "language": "python",
     "metadata": {},
     "outputs": [],
     "prompt_number": 141
    }
   ],
   "metadata": {}
  }
 ]
}